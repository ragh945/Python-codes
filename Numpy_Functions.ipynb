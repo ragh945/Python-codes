{
 "cells": [
  {
   "cell_type": "markdown",
   "id": "9b41d62f",
   "metadata": {},
   "source": [
    "# Numpy:\n",
    "NumPy, short for Numerical Python, is a fundamental package for numerical computing in Python. It provides support for multi-dimensional arrays and matrices, along with a wide range of mathematical functions to operate on these arrays efficiently. "
   ]
  },
  {
   "cell_type": "markdown",
   "id": "b2d0667a",
   "metadata": {},
   "source": [
    "## Installation of Numpy\n",
    "!pip install numpy"
   ]
  },
  {
   "cell_type": "markdown",
   "id": "7169e0a4",
   "metadata": {},
   "source": [
    "## Importing Numpy module"
   ]
  },
  {
   "cell_type": "code",
   "execution_count": 1,
   "id": "903b06cd",
   "metadata": {},
   "outputs": [],
   "source": [
    "import numpy as np"
   ]
  },
  {
   "cell_type": "markdown",
   "id": "5d3f85ec",
   "metadata": {},
   "source": [
    "##  Version of Numpy"
   ]
  },
  {
   "cell_type": "code",
   "execution_count": 2,
   "id": "0e0e8e9d",
   "metadata": {},
   "outputs": [
    {
     "data": {
      "text/plain": [
       "'1.21.5'"
      ]
     },
     "execution_count": 2,
     "metadata": {},
     "output_type": "execute_result"
    }
   ],
   "source": [
    "np.__version__"
   ]
  },
  {
   "cell_type": "code",
   "execution_count": 3,
   "id": "a1413213",
   "metadata": {},
   "outputs": [
    {
     "data": {
      "text/plain": [
       "'1.21.5'"
      ]
     },
     "execution_count": 3,
     "metadata": {},
     "output_type": "execute_result"
    }
   ],
   "source": [
    "np.version.version"
   ]
  },
  {
   "cell_type": "markdown",
   "id": "d480ce86",
   "metadata": {},
   "source": [
    "# Functions in Numpy module"
   ]
  },
  {
   "cell_type": "markdown",
   "id": "e8166649",
   "metadata": {},
   "source": [
    "## a.Creating Arrays\n",
    "\n",
    "In NumPy, there are several functions for creating arrays with specific patterns or values. Here are some commonly used ones"
   ]
  },
  {
   "cell_type": "markdown",
   "id": "196dbf29",
   "metadata": {},
   "source": [
    "## 1.np.array():\n",
    "Creates an array from a Python list or tuple.\n",
    "\n",
    "## Syntax:\n",
    "np.array(object,dtype=None,copy=True,ndmin=0)"
   ]
  },
  {
   "cell_type": "code",
   "execution_count": 4,
   "id": "cfd7d75f",
   "metadata": {},
   "outputs": [
    {
     "data": {
      "text/plain": [
       "array([[1, 2, 3, 4, 5]])"
      ]
     },
     "execution_count": 4,
     "metadata": {},
     "output_type": "execute_result"
    }
   ],
   "source": [
    "list1=[1,2,3,4,5]\n",
    "arr=np.array(list1,dtype=int,ndmin=2)\n",
    "arr"
   ]
  },
  {
   "cell_type": "markdown",
   "id": "40e6238b",
   "metadata": {},
   "source": [
    "## 2.np.zeros():\n",
    "Creates an array of all zeros.\n",
    "\n",
    "## Syntax:\n",
    "np.zeros(shape,dtype=None)"
   ]
  },
  {
   "cell_type": "code",
   "execution_count": 5,
   "id": "69a38def",
   "metadata": {},
   "outputs": [
    {
     "data": {
      "text/plain": [
       "array([[0., 0., 0., 0.],\n",
       "       [0., 0., 0., 0.],\n",
       "       [0., 0., 0., 0.]])"
      ]
     },
     "execution_count": 5,
     "metadata": {},
     "output_type": "execute_result"
    }
   ],
   "source": [
    "arr2=np.zeros((3,4),dtype=float)\n",
    "arr2"
   ]
  },
  {
   "cell_type": "markdown",
   "id": "c3e4b006",
   "metadata": {},
   "source": [
    "## 3.np.ones():\n",
    "Creates an array of all ones.\n",
    "\n",
    "## Syntax:\n",
    "np.ones(shape,dtype=None)"
   ]
  },
  {
   "cell_type": "code",
   "execution_count": 6,
   "id": "d2a10d13",
   "metadata": {},
   "outputs": [
    {
     "data": {
      "text/plain": [
       "array([[1., 1., 1., 1.],\n",
       "       [1., 1., 1., 1.],\n",
       "       [1., 1., 1., 1.]])"
      ]
     },
     "execution_count": 6,
     "metadata": {},
     "output_type": "execute_result"
    }
   ],
   "source": [
    "arr2=np.ones((3,4),dtype=float)\n",
    "arr2"
   ]
  },
  {
   "cell_type": "markdown",
   "id": "03e6ffb1",
   "metadata": {},
   "source": [
    "## 4.np.full():\n",
    "Creates an array with specific element/value.\n",
    "\n",
    "## Syntax:\n",
    "np.full(shape,fill_value,dtype=None)"
   ]
  },
  {
   "cell_type": "code",
   "execution_count": 7,
   "id": "787ea3f8",
   "metadata": {},
   "outputs": [
    {
     "data": {
      "text/plain": [
       "array([[8., 8., 8., 8.],\n",
       "       [8., 8., 8., 8.],\n",
       "       [8., 8., 8., 8.]])"
      ]
     },
     "execution_count": 7,
     "metadata": {},
     "output_type": "execute_result"
    }
   ],
   "source": [
    "arr2=np.full((3,4),8,dtype=float)\n",
    "arr2"
   ]
  },
  {
   "cell_type": "markdown",
   "id": "0a086ddd",
   "metadata": {},
   "source": [
    "## 5.numpy.arange(): \n",
    "Creates an array with a specified range.\n",
    "\n",
    "## Syntax:\n",
    "np.arange(start,stop,step,dtype)"
   ]
  },
  {
   "cell_type": "code",
   "execution_count": 8,
   "id": "6ba42baf",
   "metadata": {},
   "outputs": [
    {
     "data": {
      "text/plain": [
       "array([ 1,  4,  7, 10, 13, 16, 19])"
      ]
     },
     "execution_count": 8,
     "metadata": {},
     "output_type": "execute_result"
    }
   ],
   "source": [
    "arr2=np.arange(1,21,3)\n",
    "arr2"
   ]
  },
  {
   "cell_type": "markdown",
   "id": "588e808e",
   "metadata": {},
   "source": [
    "## 6.numpy.linspace(): \n",
    "Creates an array with evenly spaced values.\n",
    "\n",
    "## Syntax:\n",
    "np.linspace(start,stop,num,endpoint=True,dtype=None)"
   ]
  },
  {
   "cell_type": "code",
   "execution_count": 9,
   "id": "b125c953",
   "metadata": {},
   "outputs": [
    {
     "data": {
      "text/plain": [
       "array([  1,  25,  50,  75, 100])"
      ]
     },
     "execution_count": 9,
     "metadata": {},
     "output_type": "execute_result"
    }
   ],
   "source": [
    "arr2=np.linspace(1,100,5,endpoint=True,dtype=int)\n",
    "arr2"
   ]
  },
  {
   "cell_type": "code",
   "execution_count": 10,
   "id": "dbe026e9",
   "metadata": {},
   "outputs": [
    {
     "data": {
      "text/plain": [
       "array([ 1, 20, 40, 60, 80])"
      ]
     },
     "execution_count": 10,
     "metadata": {},
     "output_type": "execute_result"
    }
   ],
   "source": [
    "arr2=np.linspace(1,100,5,endpoint=False,dtype=int)\n",
    "arr2"
   ]
  },
  {
   "cell_type": "markdown",
   "id": "13848e21",
   "metadata": {},
   "source": [
    "## 7.np.identity():\n",
    "Creates a square identity matrix. An identity matrix is a square matrix in which all the elements of the principal diagonal are ones, and all other elements are zeros.\n",
    "\n",
    "## Syntax:\n",
    "np.identity(n,dtype=None)"
   ]
  },
  {
   "cell_type": "code",
   "execution_count": 11,
   "id": "c2840e56",
   "metadata": {},
   "outputs": [
    {
     "data": {
      "text/plain": [
       "array([[1, 0, 0],\n",
       "       [0, 1, 0],\n",
       "       [0, 0, 1]])"
      ]
     },
     "execution_count": 11,
     "metadata": {},
     "output_type": "execute_result"
    }
   ],
   "source": [
    "arr2=np.identity(3,dtype=int)\n",
    "arr2"
   ]
  },
  {
   "cell_type": "markdown",
   "id": "c65352e0",
   "metadata": {},
   "source": [
    "## 8.np.eye():\n",
    "Creates a identity matrix of order M N,but it creates a rectangular matrix if N and M are not equal.\n",
    "\n",
    "## Syntax:\n",
    "np.eye(N,M=0,dtype=<class float>)"
   ]
  },
  {
   "cell_type": "code",
   "execution_count": 12,
   "id": "0dfedbea",
   "metadata": {},
   "outputs": [
    {
     "data": {
      "text/plain": [
       "array([[1., 0., 0.],\n",
       "       [0., 1., 0.],\n",
       "       [0., 0., 1.]])"
      ]
     },
     "execution_count": 12,
     "metadata": {},
     "output_type": "execute_result"
    }
   ],
   "source": [
    "arr2=np.eye(3)\n",
    "arr2"
   ]
  },
  {
   "cell_type": "code",
   "execution_count": 13,
   "id": "9ea02906",
   "metadata": {},
   "outputs": [
    {
     "data": {
      "text/plain": [
       "array([[1., 0., 0., 0.],\n",
       "       [0., 1., 0., 0.],\n",
       "       [0., 0., 1., 0.]])"
      ]
     },
     "execution_count": 13,
     "metadata": {},
     "output_type": "execute_result"
    }
   ],
   "source": [
    "arr2=np.eye(3,4)\n",
    "arr2"
   ]
  },
  {
   "cell_type": "markdown",
   "id": "48a7ffb5",
   "metadata": {},
   "source": [
    "## 9.np.diag():\n",
    "np.diag() is a versatile function in NumPy that can be used to construct diagonal matrices, extract diagonal elements from matrices, or construct or extract specific diagonals from arrays. Its behavior depends on the input provided\n",
    "    \n",
    "## Syntax:\n",
    "np.diag(v)"
   ]
  },
  {
   "cell_type": "code",
   "execution_count": 14,
   "id": "048e982b",
   "metadata": {},
   "outputs": [
    {
     "data": {
      "text/plain": [
       "array([1., 1., 1.])"
      ]
     },
     "execution_count": 14,
     "metadata": {},
     "output_type": "execute_result"
    }
   ],
   "source": [
    "arr3=np.diag(arr2)\n",
    "arr3"
   ]
  },
  {
   "cell_type": "code",
   "execution_count": 15,
   "id": "8d8c5a82",
   "metadata": {},
   "outputs": [
    {
     "data": {
      "text/plain": [
       "array([[1, 0, 0, 0],\n",
       "       [0, 2, 0, 0],\n",
       "       [0, 0, 3, 0],\n",
       "       [0, 0, 0, 4]])"
      ]
     },
     "execution_count": 15,
     "metadata": {},
     "output_type": "execute_result"
    }
   ],
   "source": [
    "arr4=np.diag([1,2,3,4])\n",
    "arr4"
   ]
  },
  {
   "cell_type": "markdown",
   "id": "ff8eac63",
   "metadata": {},
   "source": [
    "# Array Attributes\n",
    "\n",
    "In NumPy, arrays have several attributes that provide information about their size, shape, data type, and more. Some commonly used array attributes include"
   ]
  },
  {
   "cell_type": "markdown",
   "id": "d85952b5",
   "metadata": {},
   "source": [
    "## 1.ndarray.shape:\n",
    "Returns the shape of the array."
   ]
  },
  {
   "cell_type": "code",
   "execution_count": 16,
   "id": "19acdf4e",
   "metadata": {},
   "outputs": [
    {
     "data": {
      "text/plain": [
       "array([[ 1.,  2.,  3.,  4.],\n",
       "       [ 5., 56.,  7.,  8.]])"
      ]
     },
     "execution_count": 16,
     "metadata": {},
     "output_type": "execute_result"
    }
   ],
   "source": [
    "arr=np.array([[1,2,3,4],[5,56,7,8]],dtype=float)\n",
    "arr"
   ]
  },
  {
   "cell_type": "code",
   "execution_count": 17,
   "id": "35b621dd",
   "metadata": {},
   "outputs": [
    {
     "data": {
      "text/plain": [
       "(2, 4)"
      ]
     },
     "execution_count": 17,
     "metadata": {},
     "output_type": "execute_result"
    }
   ],
   "source": [
    "arr.shape"
   ]
  },
  {
   "cell_type": "markdown",
   "id": "ea144f3b",
   "metadata": {},
   "source": [
    "## 2.ndarray.ndim:\n",
    "Returns the number of dimensions (axes) of the array."
   ]
  },
  {
   "cell_type": "code",
   "execution_count": 18,
   "id": "c65bbb2a",
   "metadata": {},
   "outputs": [
    {
     "data": {
      "text/plain": [
       "array([[ 1.,  2.,  3.,  4.],\n",
       "       [ 5., 56.,  7.,  8.]])"
      ]
     },
     "execution_count": 18,
     "metadata": {},
     "output_type": "execute_result"
    }
   ],
   "source": [
    "arr"
   ]
  },
  {
   "cell_type": "code",
   "execution_count": 19,
   "id": "a54470c4",
   "metadata": {},
   "outputs": [
    {
     "data": {
      "text/plain": [
       "2"
      ]
     },
     "execution_count": 19,
     "metadata": {},
     "output_type": "execute_result"
    }
   ],
   "source": [
    "arr.ndim"
   ]
  },
  {
   "cell_type": "markdown",
   "id": "634737d9",
   "metadata": {},
   "source": [
    "## 3.ndarray.size:\n",
    "Returns the total number of elements in the array."
   ]
  },
  {
   "cell_type": "code",
   "execution_count": 20,
   "id": "e4fea061",
   "metadata": {},
   "outputs": [
    {
     "data": {
      "text/plain": [
       "array([[ 1.,  2.,  3.,  4.],\n",
       "       [ 5., 56.,  7.,  8.]])"
      ]
     },
     "execution_count": 20,
     "metadata": {},
     "output_type": "execute_result"
    }
   ],
   "source": [
    "arr"
   ]
  },
  {
   "cell_type": "code",
   "execution_count": 21,
   "id": "17b376ad",
   "metadata": {},
   "outputs": [
    {
     "data": {
      "text/plain": [
       "8"
      ]
     },
     "execution_count": 21,
     "metadata": {},
     "output_type": "execute_result"
    }
   ],
   "source": [
    "arr.size"
   ]
  },
  {
   "cell_type": "markdown",
   "id": "83a27e5d",
   "metadata": {},
   "source": [
    "## 4.ndarray.dtype:\n",
    "Returns the data type of the elements in the array."
   ]
  },
  {
   "cell_type": "code",
   "execution_count": 22,
   "id": "00b92647",
   "metadata": {},
   "outputs": [
    {
     "data": {
      "text/plain": [
       "array([[ 1.,  2.,  3.,  4.],\n",
       "       [ 5., 56.,  7.,  8.]])"
      ]
     },
     "execution_count": 22,
     "metadata": {},
     "output_type": "execute_result"
    }
   ],
   "source": [
    "arr"
   ]
  },
  {
   "cell_type": "code",
   "execution_count": 23,
   "id": "5178f4f2",
   "metadata": {},
   "outputs": [
    {
     "data": {
      "text/plain": [
       "dtype('float64')"
      ]
     },
     "execution_count": 23,
     "metadata": {},
     "output_type": "execute_result"
    }
   ],
   "source": [
    "arr.dtype"
   ]
  },
  {
   "cell_type": "markdown",
   "id": "4126e949",
   "metadata": {},
   "source": [
    "# Array Manipulation\n",
    "\n",
    "\n",
    "Array manipulation in NumPy involves various operations for reshaping, slicing, joining, and splitting arrays. Here are some commonly used array manipulation functions in NumPy:"
   ]
  },
  {
   "cell_type": "markdown",
   "id": "bd749810",
   "metadata": {},
   "source": [
    "## 1.ndarray.reshape():\n",
    "Reshape an array into a new shape.\n",
    "\n",
    "## Syntax:\n",
    "ndarray.reshape(shape)"
   ]
  },
  {
   "cell_type": "code",
   "execution_count": 24,
   "id": "61cd3be7",
   "metadata": {},
   "outputs": [
    {
     "data": {
      "text/plain": [
       "array([[ 1.,  2.,  3.,  4.],\n",
       "       [ 5., 56.,  7.,  8.]])"
      ]
     },
     "execution_count": 24,
     "metadata": {},
     "output_type": "execute_result"
    }
   ],
   "source": [
    "arr"
   ]
  },
  {
   "cell_type": "code",
   "execution_count": 25,
   "id": "984dfc53",
   "metadata": {},
   "outputs": [
    {
     "data": {
      "text/plain": [
       "array([[ 1.,  2.],\n",
       "       [ 3.,  4.],\n",
       "       [ 5., 56.],\n",
       "       [ 7.,  8.]])"
      ]
     },
     "execution_count": 25,
     "metadata": {},
     "output_type": "execute_result"
    }
   ],
   "source": [
    "arr.reshape(4,2)"
   ]
  },
  {
   "cell_type": "markdown",
   "id": "195a76b2",
   "metadata": {},
   "source": [
    "## 2.ndarray.copy():\n",
    "A copy creates an array with its own data,completely independent of the original array.\n",
    "\n",
    "## Syntax:\n",
    "ndarray.copy()"
   ]
  },
  {
   "cell_type": "code",
   "execution_count": 26,
   "id": "bff0cc7e",
   "metadata": {},
   "outputs": [
    {
     "name": "stdout",
     "output_type": "stream",
     "text": [
      "After modifications\n",
      "[10  2  3  4]\n",
      "Original Array \n",
      "[1 2 3 4]\n"
     ]
    }
   ],
   "source": [
    "arr=np.array([1,2,3,4])\n",
    "arr1=arr.copy()\n",
    "arr1[0]=10\n",
    "print(\"After modifications\")\n",
    "print(arr1)\n",
    "print(\"Original Array \")\n",
    "print(arr)"
   ]
  },
  {
   "cell_type": "markdown",
   "id": "c898af6b",
   "metadata": {},
   "source": [
    "## 3.ndarray.view():\n",
    "A view creates a new array object that reference the same data as the original array.\n",
    "\n",
    "## Syntax:\n",
    "ndarray.view()"
   ]
  },
  {
   "cell_type": "code",
   "execution_count": 27,
   "id": "0d45d061",
   "metadata": {},
   "outputs": [
    {
     "name": "stdout",
     "output_type": "stream",
     "text": [
      "After modifications\n",
      "[10  2  3  4]\n",
      "Original Array \n",
      "[10  2  3  4]\n"
     ]
    }
   ],
   "source": [
    "arr=np.array([1,2,3,4])\n",
    "arr1=arr.view()\n",
    "arr1[0]=10\n",
    "print(\"After modifications\")\n",
    "print(arr1)\n",
    "print(\"Original Array \")\n",
    "print(arr)"
   ]
  },
  {
   "cell_type": "markdown",
   "id": "3a406de2",
   "metadata": {},
   "source": [
    "## 4.ndarray.flatten():\n",
    "flatten the array,changes made in the flattened array doesn't affect the original array.\n",
    "\n",
    "## Syntax:\n",
    "ndarray.flatten()"
   ]
  },
  {
   "cell_type": "code",
   "execution_count": 28,
   "id": "7c75654f",
   "metadata": {},
   "outputs": [
    {
     "data": {
      "text/plain": [
       "array([10,  2,  3,  4])"
      ]
     },
     "execution_count": 28,
     "metadata": {},
     "output_type": "execute_result"
    }
   ],
   "source": [
    "arr"
   ]
  },
  {
   "cell_type": "code",
   "execution_count": 29,
   "id": "0afac085",
   "metadata": {},
   "outputs": [
    {
     "data": {
      "text/plain": [
       "array([10,  2,  3,  4])"
      ]
     },
     "execution_count": 29,
     "metadata": {},
     "output_type": "execute_result"
    }
   ],
   "source": [
    "arr1=arr.flatten()\n",
    "arr1"
   ]
  },
  {
   "cell_type": "code",
   "execution_count": 30,
   "id": "14968ad4",
   "metadata": {},
   "outputs": [
    {
     "data": {
      "text/plain": [
       "array([ 10,   2, 200,   4])"
      ]
     },
     "execution_count": 30,
     "metadata": {},
     "output_type": "execute_result"
    }
   ],
   "source": [
    "#changing the value of arr1 at 2nd index to 200.78\n",
    "arr1[2]=200.78\n",
    "arr1"
   ]
  },
  {
   "cell_type": "code",
   "execution_count": 31,
   "id": "087190ad",
   "metadata": {},
   "outputs": [
    {
     "data": {
      "text/plain": [
       "array([10,  2,  3,  4])"
      ]
     },
     "execution_count": 31,
     "metadata": {},
     "output_type": "execute_result"
    }
   ],
   "source": [
    "#Original array\n",
    "arr"
   ]
  },
  {
   "cell_type": "markdown",
   "id": "240722dc",
   "metadata": {},
   "source": [
    "## 5.ndarray.ravel():\n",
    "flatten the array,changes made in the ravel array affects the original array.\n",
    "\n",
    "## Syntax:\n",
    "ndarray.ravel()"
   ]
  },
  {
   "cell_type": "code",
   "execution_count": 32,
   "id": "4b79a3fe",
   "metadata": {},
   "outputs": [
    {
     "data": {
      "text/plain": [
       "array([10,  2,  3,  4])"
      ]
     },
     "execution_count": 32,
     "metadata": {},
     "output_type": "execute_result"
    }
   ],
   "source": [
    "arr"
   ]
  },
  {
   "cell_type": "code",
   "execution_count": 33,
   "id": "02453d58",
   "metadata": {},
   "outputs": [
    {
     "data": {
      "text/plain": [
       "array([10,  2,  3,  4])"
      ]
     },
     "execution_count": 33,
     "metadata": {},
     "output_type": "execute_result"
    }
   ],
   "source": [
    "arr1=arr.ravel()\n",
    "arr1"
   ]
  },
  {
   "cell_type": "code",
   "execution_count": 34,
   "id": "fffb81d6",
   "metadata": {},
   "outputs": [
    {
     "data": {
      "text/plain": [
       "array([ 10,   2, 200,   4])"
      ]
     },
     "execution_count": 34,
     "metadata": {},
     "output_type": "execute_result"
    }
   ],
   "source": [
    "#changing the value of arr1 at 2nd index to 200.78\n",
    "arr1[2]=200.78\n",
    "arr1"
   ]
  },
  {
   "cell_type": "code",
   "execution_count": 35,
   "id": "04eac0ca",
   "metadata": {},
   "outputs": [
    {
     "data": {
      "text/plain": [
       "array([ 10,   2, 200,   4])"
      ]
     },
     "execution_count": 35,
     "metadata": {},
     "output_type": "execute_result"
    }
   ],
   "source": [
    "#Original Array\n",
    "arr"
   ]
  },
  {
   "cell_type": "markdown",
   "id": "2125ebbb",
   "metadata": {},
   "source": [
    "## 6.np.concatenate():\n",
    "numpy.concatenate(): Concatenate arrays along a specified axis.\n",
    "    \n",
    "## Syntax:\n",
    "np.concatenate([a1,a2],axis=0,dtype=None)"
   ]
  },
  {
   "cell_type": "code",
   "execution_count": 36,
   "id": "882cc3e9",
   "metadata": {},
   "outputs": [
    {
     "data": {
      "text/plain": [
       "array([[ 1,  2,  3,  4, 11, 12, 13, 14],\n",
       "       [ 5,  6,  7,  8, 15, 16, 17, 18],\n",
       "       [ 9, 10, 11, 12, 19, 20, 21, 22],\n",
       "       [13, 14, 15, 16, 23, 24, 25, 26],\n",
       "       [17, 18, 19, 20, 27, 28, 29, 30]])"
      ]
     },
     "execution_count": 36,
     "metadata": {},
     "output_type": "execute_result"
    }
   ],
   "source": [
    "arr1=np.arange(1,21).reshape(5,4)\n",
    "arr2=np.arange(11,31).reshape(5,4)\n",
    "arr3=np.concatenate([arr1,arr2],axis=1)\n",
    "arr3"
   ]
  },
  {
   "cell_type": "code",
   "execution_count": 37,
   "id": "a3bb2487",
   "metadata": {},
   "outputs": [
    {
     "data": {
      "text/plain": [
       "array([[ 1,  2,  3,  4],\n",
       "       [ 5,  6,  7,  8],\n",
       "       [ 9, 10, 11, 12],\n",
       "       [13, 14, 15, 16],\n",
       "       [17, 18, 19, 20],\n",
       "       [11, 12, 13, 14],\n",
       "       [15, 16, 17, 18],\n",
       "       [19, 20, 21, 22],\n",
       "       [23, 24, 25, 26],\n",
       "       [27, 28, 29, 30]])"
      ]
     },
     "execution_count": 37,
     "metadata": {},
     "output_type": "execute_result"
    }
   ],
   "source": [
    "arr3=np.concatenate([arr1,arr2],axis=0)\n",
    "arr3"
   ]
  },
  {
   "cell_type": "markdown",
   "id": "e36d177e",
   "metadata": {},
   "source": [
    "## 7.np.vstack():\n",
    "Vertically stacks arrays one on the top of the other,the arrays must have same number of colunns.\n",
    "\n",
    "## Syntax:\n",
    "np.vstack([a1.a2])"
   ]
  },
  {
   "cell_type": "code",
   "execution_count": 38,
   "id": "8a310552",
   "metadata": {},
   "outputs": [
    {
     "data": {
      "text/plain": [
       "(array([[ 1,  2,  3,  4],\n",
       "        [ 5,  6,  7,  8],\n",
       "        [ 9, 10, 11, 12],\n",
       "        [13, 14, 15, 16],\n",
       "        [17, 18, 19, 20]]),\n",
       " array([[11, 12, 13, 14],\n",
       "        [15, 16, 17, 18],\n",
       "        [19, 20, 21, 22],\n",
       "        [23, 24, 25, 26],\n",
       "        [27, 28, 29, 30]]))"
      ]
     },
     "execution_count": 38,
     "metadata": {},
     "output_type": "execute_result"
    }
   ],
   "source": [
    "arr1,arr2"
   ]
  },
  {
   "cell_type": "code",
   "execution_count": 39,
   "id": "bf3cc5c3",
   "metadata": {},
   "outputs": [
    {
     "data": {
      "text/plain": [
       "array([[ 1,  2,  3,  4],\n",
       "       [ 5,  6,  7,  8],\n",
       "       [ 9, 10, 11, 12],\n",
       "       [13, 14, 15, 16],\n",
       "       [17, 18, 19, 20],\n",
       "       [11, 12, 13, 14],\n",
       "       [15, 16, 17, 18],\n",
       "       [19, 20, 21, 22],\n",
       "       [23, 24, 25, 26],\n",
       "       [27, 28, 29, 30]])"
      ]
     },
     "execution_count": 39,
     "metadata": {},
     "output_type": "execute_result"
    }
   ],
   "source": [
    "np.vstack([arr1,arr2])"
   ]
  },
  {
   "cell_type": "markdown",
   "id": "1ca1eac0",
   "metadata": {},
   "source": [
    "## 8.np.hstack():\n",
    "Horizontally stacks arrays side by side,the arrays must have same number of rows.\n",
    "\n",
    "## Syntax:\n",
    "np.hstack([a1,a2])"
   ]
  },
  {
   "cell_type": "code",
   "execution_count": 40,
   "id": "8e6a6d64",
   "metadata": {},
   "outputs": [
    {
     "data": {
      "text/plain": [
       "(array([[ 1,  2,  3,  4],\n",
       "        [ 5,  6,  7,  8],\n",
       "        [ 9, 10, 11, 12],\n",
       "        [13, 14, 15, 16],\n",
       "        [17, 18, 19, 20]]),\n",
       " array([[11, 12, 13, 14],\n",
       "        [15, 16, 17, 18],\n",
       "        [19, 20, 21, 22],\n",
       "        [23, 24, 25, 26],\n",
       "        [27, 28, 29, 30]]))"
      ]
     },
     "execution_count": 40,
     "metadata": {},
     "output_type": "execute_result"
    }
   ],
   "source": [
    "arr1,arr2"
   ]
  },
  {
   "cell_type": "code",
   "execution_count": 41,
   "id": "538354d3",
   "metadata": {},
   "outputs": [
    {
     "data": {
      "text/plain": [
       "array([[ 1,  2,  3,  4, 11, 12, 13, 14],\n",
       "       [ 5,  6,  7,  8, 15, 16, 17, 18],\n",
       "       [ 9, 10, 11, 12, 19, 20, 21, 22],\n",
       "       [13, 14, 15, 16, 23, 24, 25, 26],\n",
       "       [17, 18, 19, 20, 27, 28, 29, 30]])"
      ]
     },
     "execution_count": 41,
     "metadata": {},
     "output_type": "execute_result"
    }
   ],
   "source": [
    "np.hstack([arr1,arr2])"
   ]
  },
  {
   "cell_type": "markdown",
   "id": "40cc5e06",
   "metadata": {},
   "source": [
    "# Basic Mathematical Functions\n",
    "\n",
    "NumPy provides a wide range of mathematical functions that operate element-wise on arrays. Here are some commonly used mathematical functions in NumPy:\n"
   ]
  },
  {
   "cell_type": "markdown",
   "id": "4c3b300e",
   "metadata": {},
   "source": [
    "## 1.np.add(): \n",
    "Add corresponding elements of two arrays.\n",
    "\n",
    "## Syntax:\n",
    "np.add(*args.**kwargs)"
   ]
  },
  {
   "cell_type": "code",
   "execution_count": 42,
   "id": "a1c91987",
   "metadata": {},
   "outputs": [
    {
     "data": {
      "text/plain": [
       "array([ 5,  7,  9, 11, 13])"
      ]
     },
     "execution_count": 42,
     "metadata": {},
     "output_type": "execute_result"
    }
   ],
   "source": [
    "a1=np.array([1,2,3,4,5])\n",
    "a2=np.array([4,5,6,7,8])\n",
    "np.add(a1,a2)"
   ]
  },
  {
   "cell_type": "markdown",
   "id": "39071d21",
   "metadata": {},
   "source": [
    "## 2.np.subtract():\n",
    "Subtracts corresponding elements of two arrays.\n",
    "\n",
    "## Syntax:\n",
    "np.subtract(*args.**kwargs)"
   ]
  },
  {
   "cell_type": "code",
   "execution_count": 43,
   "id": "58337a13",
   "metadata": {},
   "outputs": [
    {
     "data": {
      "text/plain": [
       "array([-3, -3, -3, -3, -3])"
      ]
     },
     "execution_count": 43,
     "metadata": {},
     "output_type": "execute_result"
    }
   ],
   "source": [
    "a1=np.array([1,2,3,4,5])\n",
    "a2=np.array([4,5,6,7,8])\n",
    "np.subtract(a1,a2)"
   ]
  },
  {
   "cell_type": "markdown",
   "id": "95400fb7",
   "metadata": {},
   "source": [
    "## 3.np.multiply():\n",
    "Multiplies corresponding elements of two arrays.\n",
    "\n",
    "## Syntax:\n",
    "np.multiply(*args.**kwargs)"
   ]
  },
  {
   "cell_type": "code",
   "execution_count": 44,
   "id": "082e3a26",
   "metadata": {},
   "outputs": [
    {
     "data": {
      "text/plain": [
       "array([ 4, 10, 18, 28, 40])"
      ]
     },
     "execution_count": 44,
     "metadata": {},
     "output_type": "execute_result"
    }
   ],
   "source": [
    "a1=np.array([1,2,3,4,5])\n",
    "a2=np.array([4,5,6,7,8])\n",
    "np.multiply(a1,a2)"
   ]
  },
  {
   "cell_type": "markdown",
   "id": "f9dc2587",
   "metadata": {},
   "source": [
    "## 4.np.divide():\n",
    "Divides corresponding elements of two arrays.\n",
    "\n",
    "## Syntax:\n",
    "np.divide(*args.**kwargs)"
   ]
  },
  {
   "cell_type": "code",
   "execution_count": 45,
   "id": "9bff6ae7",
   "metadata": {},
   "outputs": [
    {
     "data": {
      "text/plain": [
       "array([0.25      , 0.4       , 0.5       , 0.57142857, 0.625     ])"
      ]
     },
     "execution_count": 45,
     "metadata": {},
     "output_type": "execute_result"
    }
   ],
   "source": [
    "a1=np.array([1,2,3,4,5])\n",
    "a2=np.array([4,5,6,7,8])\n",
    "np.divide(a1,a2)"
   ]
  },
  {
   "cell_type": "markdown",
   "id": "83dd9b6b",
   "metadata": {},
   "source": [
    "## 5.np.mod():\n",
    "Gives the remainder of corresponding elements of two arrays.\n",
    "\n",
    "## Syntax:\n",
    "np.mod(*args.**kwargs)"
   ]
  },
  {
   "cell_type": "code",
   "execution_count": 46,
   "id": "06d1a961",
   "metadata": {},
   "outputs": [
    {
     "data": {
      "text/plain": [
       "array([1, 2, 3, 4, 5], dtype=int32)"
      ]
     },
     "execution_count": 46,
     "metadata": {},
     "output_type": "execute_result"
    }
   ],
   "source": [
    "a1=np.array([1,2,3,4,5])\n",
    "a2=np.array([4,5,6,7,8])\n",
    "np.mod(a1,a2)"
   ]
  },
  {
   "cell_type": "markdown",
   "id": "0bff8e33",
   "metadata": {},
   "source": [
    "## 6.np.min():\n",
    "Returns minimum value of the given array along specified axis.\n",
    "\n",
    "## Syntax:\n",
    "np.min(a,axis=Npne)"
   ]
  },
  {
   "cell_type": "code",
   "execution_count": 47,
   "id": "bd8b8e26",
   "metadata": {},
   "outputs": [
    {
     "data": {
      "text/plain": [
       "array([[ 1,  2,  3,  4,  5,  6,  7,  8,  9, 10],\n",
       "       [11, 12, 13, 14, 15, 16, 17, 18, 19, 20],\n",
       "       [21, 22, 23, 24, 25, 26, 27, 28, 29, 30],\n",
       "       [31, 32, 33, 34, 35, 36, 37, 38, 39, 40],\n",
       "       [41, 42, 43, 44, 45, 46, 47, 48, 49, 50]])"
      ]
     },
     "execution_count": 47,
     "metadata": {},
     "output_type": "execute_result"
    }
   ],
   "source": [
    "a1=np.arange(1,51).reshape(5,10)\n",
    "a1"
   ]
  },
  {
   "cell_type": "code",
   "execution_count": 48,
   "id": "42595a8b",
   "metadata": {},
   "outputs": [
    {
     "data": {
      "text/plain": [
       "array([ 1,  2,  3,  4,  5,  6,  7,  8,  9, 10])"
      ]
     },
     "execution_count": 48,
     "metadata": {},
     "output_type": "execute_result"
    }
   ],
   "source": [
    "np.min(a1,axis=0)"
   ]
  },
  {
   "cell_type": "code",
   "execution_count": 49,
   "id": "b8929ae8",
   "metadata": {},
   "outputs": [
    {
     "data": {
      "text/plain": [
       "array([ 1, 11, 21, 31, 41])"
      ]
     },
     "execution_count": 49,
     "metadata": {},
     "output_type": "execute_result"
    }
   ],
   "source": [
    "np.min(a1,axis=1)"
   ]
  },
  {
   "cell_type": "code",
   "execution_count": 50,
   "id": "44d6b61b",
   "metadata": {},
   "outputs": [
    {
     "data": {
      "text/plain": [
       "1"
      ]
     },
     "execution_count": 50,
     "metadata": {},
     "output_type": "execute_result"
    }
   ],
   "source": [
    "np.min(a1)"
   ]
  },
  {
   "cell_type": "markdown",
   "id": "1c8f6bec",
   "metadata": {},
   "source": [
    "## 7.np.max():\n",
    "Returns maximum value of the given array along specified axis.\n",
    "\n",
    "## Syntax:\n",
    "np.max(a,axis=Npne)"
   ]
  },
  {
   "cell_type": "code",
   "execution_count": 51,
   "id": "c99f14a7",
   "metadata": {},
   "outputs": [
    {
     "data": {
      "text/plain": [
       "array([[ 1,  2,  3,  4,  5,  6,  7,  8,  9, 10],\n",
       "       [11, 12, 13, 14, 15, 16, 17, 18, 19, 20],\n",
       "       [21, 22, 23, 24, 25, 26, 27, 28, 29, 30],\n",
       "       [31, 32, 33, 34, 35, 36, 37, 38, 39, 40],\n",
       "       [41, 42, 43, 44, 45, 46, 47, 48, 49, 50]])"
      ]
     },
     "execution_count": 51,
     "metadata": {},
     "output_type": "execute_result"
    }
   ],
   "source": [
    "a1=np.arange(1,51).reshape(5,10)\n",
    "a1"
   ]
  },
  {
   "cell_type": "code",
   "execution_count": 52,
   "id": "7c6fc898",
   "metadata": {},
   "outputs": [
    {
     "data": {
      "text/plain": [
       "array([41, 42, 43, 44, 45, 46, 47, 48, 49, 50])"
      ]
     },
     "execution_count": 52,
     "metadata": {},
     "output_type": "execute_result"
    }
   ],
   "source": [
    "np.max(a1,axis=0)"
   ]
  },
  {
   "cell_type": "code",
   "execution_count": 53,
   "id": "1bcc43fc",
   "metadata": {},
   "outputs": [
    {
     "data": {
      "text/plain": [
       "array([10, 20, 30, 40, 50])"
      ]
     },
     "execution_count": 53,
     "metadata": {},
     "output_type": "execute_result"
    }
   ],
   "source": [
    "np.max(a1,axis=1)"
   ]
  },
  {
   "cell_type": "code",
   "execution_count": 54,
   "id": "8930ff35",
   "metadata": {},
   "outputs": [
    {
     "data": {
      "text/plain": [
       "50"
      ]
     },
     "execution_count": 54,
     "metadata": {},
     "output_type": "execute_result"
    }
   ],
   "source": [
    "np.max(a1)"
   ]
  },
  {
   "cell_type": "markdown",
   "id": "b6097f06",
   "metadata": {},
   "source": [
    "## 9.np.argmax():\n",
    "Returns the indices of the maximum values along an axis.\n",
    "\n",
    "## Syntax:\n",
    "np.argmax(a,axis=None)"
   ]
  },
  {
   "cell_type": "code",
   "execution_count": 55,
   "id": "70633703",
   "metadata": {},
   "outputs": [
    {
     "data": {
      "text/plain": [
       "array([[ 1,  2,  3,  4,  5,  6,  7,  8,  9, 10],\n",
       "       [11, 12, 13, 14, 15, 16, 17, 18, 19, 20],\n",
       "       [21, 22, 23, 24, 25, 26, 27, 28, 29, 30],\n",
       "       [31, 32, 33, 34, 35, 36, 37, 38, 39, 40],\n",
       "       [41, 42, 43, 44, 45, 46, 47, 48, 49, 50]])"
      ]
     },
     "execution_count": 55,
     "metadata": {},
     "output_type": "execute_result"
    }
   ],
   "source": [
    "a1"
   ]
  },
  {
   "cell_type": "code",
   "execution_count": 56,
   "id": "ddd2202d",
   "metadata": {},
   "outputs": [
    {
     "data": {
      "text/plain": [
       "49"
      ]
     },
     "execution_count": 56,
     "metadata": {},
     "output_type": "execute_result"
    }
   ],
   "source": [
    "np.argmax(a1)"
   ]
  },
  {
   "cell_type": "code",
   "execution_count": 57,
   "id": "359bab25",
   "metadata": {},
   "outputs": [
    {
     "data": {
      "text/plain": [
       "array([4, 4, 4, 4, 4, 4, 4, 4, 4, 4], dtype=int64)"
      ]
     },
     "execution_count": 57,
     "metadata": {},
     "output_type": "execute_result"
    }
   ],
   "source": [
    "np.argmax(a1,axis=0)"
   ]
  },
  {
   "cell_type": "code",
   "execution_count": 58,
   "id": "aff795de",
   "metadata": {},
   "outputs": [
    {
     "data": {
      "text/plain": [
       "array([9, 9, 9, 9, 9], dtype=int64)"
      ]
     },
     "execution_count": 58,
     "metadata": {},
     "output_type": "execute_result"
    }
   ],
   "source": [
    "np.argmax(a1,axis=1)"
   ]
  },
  {
   "cell_type": "markdown",
   "id": "b971e8ba",
   "metadata": {},
   "source": [
    "## 10.np.argmin():\n",
    "Returns the indices of the minimum values along an axis.\n",
    "\n",
    "## Syntax:\n",
    "np.argmin(a,axis=None)"
   ]
  },
  {
   "cell_type": "code",
   "execution_count": 59,
   "id": "1d9bc06b",
   "metadata": {},
   "outputs": [
    {
     "data": {
      "text/plain": [
       "array([[ 1,  2,  3,  4,  5,  6,  7,  8,  9, 10],\n",
       "       [11, 12, 13, 14, 15, 16, 17, 18, 19, 20],\n",
       "       [21, 22, 23, 24, 25, 26, 27, 28, 29, 30],\n",
       "       [31, 32, 33, 34, 35, 36, 37, 38, 39, 40],\n",
       "       [41, 42, 43, 44, 45, 46, 47, 48, 49, 50]])"
      ]
     },
     "execution_count": 59,
     "metadata": {},
     "output_type": "execute_result"
    }
   ],
   "source": [
    "a1"
   ]
  },
  {
   "cell_type": "code",
   "execution_count": 60,
   "id": "975ff10c",
   "metadata": {},
   "outputs": [
    {
     "data": {
      "text/plain": [
       "0"
      ]
     },
     "execution_count": 60,
     "metadata": {},
     "output_type": "execute_result"
    }
   ],
   "source": [
    "np.argmin(a1)"
   ]
  },
  {
   "cell_type": "code",
   "execution_count": 61,
   "id": "1396e766",
   "metadata": {},
   "outputs": [
    {
     "data": {
      "text/plain": [
       "array([0, 0, 0, 0, 0, 0, 0, 0, 0, 0], dtype=int64)"
      ]
     },
     "execution_count": 61,
     "metadata": {},
     "output_type": "execute_result"
    }
   ],
   "source": [
    "np.argmin(a1,axis=0)"
   ]
  },
  {
   "cell_type": "code",
   "execution_count": 62,
   "id": "ab26b851",
   "metadata": {},
   "outputs": [
    {
     "data": {
      "text/plain": [
       "array([0, 0, 0, 0, 0], dtype=int64)"
      ]
     },
     "execution_count": 62,
     "metadata": {},
     "output_type": "execute_result"
    }
   ],
   "source": [
    "np.argmin(a1,axis=1)"
   ]
  },
  {
   "cell_type": "markdown",
   "id": "d8a8ab26",
   "metadata": {},
   "source": [
    "## 11.np.floor():\n",
    "Returns the floor of each element in an array.\n",
    "\n",
    "## Syntax:\n",
    "np.floor(a1)"
   ]
  },
  {
   "cell_type": "code",
   "execution_count": 63,
   "id": "70ff78e5",
   "metadata": {},
   "outputs": [
    {
     "data": {
      "text/plain": [
       "array([1.98    , 2.1     , 2.91    , 2.000001, 8.6     ])"
      ]
     },
     "execution_count": 63,
     "metadata": {},
     "output_type": "execute_result"
    }
   ],
   "source": [
    "a2=np.array([1.98,2.1,2.91,2.000001,8.6])\n",
    "a2"
   ]
  },
  {
   "cell_type": "code",
   "execution_count": 64,
   "id": "e4e0d58a",
   "metadata": {},
   "outputs": [
    {
     "data": {
      "text/plain": [
       "array([1., 2., 2., 2., 8.])"
      ]
     },
     "execution_count": 64,
     "metadata": {},
     "output_type": "execute_result"
    }
   ],
   "source": [
    "np.floor(a2)"
   ]
  },
  {
   "cell_type": "markdown",
   "id": "6dbcc7a2",
   "metadata": {},
   "source": [
    "## 12.np.ceil():\n",
    "Returns the ceil of every element in an array.\n",
    "\n",
    "## Syntax:\n",
    "np.ceil(a1)"
   ]
  },
  {
   "cell_type": "code",
   "execution_count": 65,
   "id": "97ffed82",
   "metadata": {},
   "outputs": [
    {
     "data": {
      "text/plain": [
       "array([1.98    , 2.1     , 2.91    , 2.000001, 8.6     ])"
      ]
     },
     "execution_count": 65,
     "metadata": {},
     "output_type": "execute_result"
    }
   ],
   "source": [
    "a2"
   ]
  },
  {
   "cell_type": "code",
   "execution_count": 66,
   "id": "b53621b8",
   "metadata": {},
   "outputs": [
    {
     "data": {
      "text/plain": [
       "array([2., 3., 3., 3., 9.])"
      ]
     },
     "execution_count": 66,
     "metadata": {},
     "output_type": "execute_result"
    }
   ],
   "source": [
    "np.ceil(a2)"
   ]
  },
  {
   "cell_type": "markdown",
   "id": "deb9ed32",
   "metadata": {},
   "source": [
    "## 13.np.sum():\n",
    "np.sum() is a NumPy function used to compute the sum of array elements along a specified axis or axes. It can operate on arrays of any dimension\n",
    "\n",
    "## Syntax:\n",
    "np.sum(a,axis=None)"
   ]
  },
  {
   "cell_type": "code",
   "execution_count": 67,
   "id": "5699cc40",
   "metadata": {},
   "outputs": [
    {
     "data": {
      "text/plain": [
       "array([[ 1,  2,  3,  4],\n",
       "       [ 5,  6,  7,  8],\n",
       "       [ 9, 10, 11, 12],\n",
       "       [13, 14, 15, 16],\n",
       "       [17, 18, 19, 20]])"
      ]
     },
     "execution_count": 67,
     "metadata": {},
     "output_type": "execute_result"
    }
   ],
   "source": [
    "arr1"
   ]
  },
  {
   "cell_type": "code",
   "execution_count": 68,
   "id": "a898029b",
   "metadata": {},
   "outputs": [
    {
     "data": {
      "text/plain": [
       "210"
      ]
     },
     "execution_count": 68,
     "metadata": {},
     "output_type": "execute_result"
    }
   ],
   "source": [
    "np.sum(arr1)"
   ]
  },
  {
   "cell_type": "code",
   "execution_count": 69,
   "id": "f718caa8",
   "metadata": {},
   "outputs": [
    {
     "data": {
      "text/plain": [
       "array([10, 26, 42, 58, 74])"
      ]
     },
     "execution_count": 69,
     "metadata": {},
     "output_type": "execute_result"
    }
   ],
   "source": [
    "np.sum(arr1,axis=1)"
   ]
  },
  {
   "cell_type": "code",
   "execution_count": 70,
   "id": "1d17e15e",
   "metadata": {},
   "outputs": [
    {
     "data": {
      "text/plain": [
       "array([45, 50, 55, 60])"
      ]
     },
     "execution_count": 70,
     "metadata": {},
     "output_type": "execute_result"
    }
   ],
   "source": [
    "np.sum(arr1,axis=0)"
   ]
  },
  {
   "cell_type": "markdown",
   "id": "9b1afb86",
   "metadata": {},
   "source": [
    "## 14.np.prod():\n",
    "np.prod() is a NumPy function used to compute the product of array elements along a specified axis or axes. It can operate on arrays of any dimension\n",
    "\n",
    "## Syntax:\n",
    "np.prod(a,axis=None)"
   ]
  },
  {
   "cell_type": "code",
   "execution_count": 71,
   "id": "2bdeface",
   "metadata": {},
   "outputs": [
    {
     "data": {
      "text/plain": [
       "24"
      ]
     },
     "execution_count": 71,
     "metadata": {},
     "output_type": "execute_result"
    }
   ],
   "source": [
    "np.prod(np.array([1,2,3,4]))"
   ]
  },
  {
   "cell_type": "markdown",
   "id": "a0de9e0f",
   "metadata": {},
   "source": [
    "# Trigonometric Functions\n",
    "\n",
    "\n",
    "In NumPy, trigonometric functions are available to perform various trigonometric operations on arrays. Here are the main trigonometric functions provided by NumPy:"
   ]
  },
  {
   "cell_type": "markdown",
   "id": "c04e727c",
   "metadata": {},
   "source": [
    "## 1.np.sin():\n",
    "Computes the sine value of each element in an array.\n",
    "\n",
    "## Syntax:\n",
    "np.sin(**args,***kwargs)"
   ]
  },
  {
   "cell_type": "code",
   "execution_count": 72,
   "id": "0b58861e",
   "metadata": {},
   "outputs": [
    {
     "data": {
      "text/plain": [
       "array([[ 1,  2,  3,  4,  5,  6,  7,  8,  9, 10],\n",
       "       [11, 12, 13, 14, 15, 16, 17, 18, 19, 20],\n",
       "       [21, 22, 23, 24, 25, 26, 27, 28, 29, 30],\n",
       "       [31, 32, 33, 34, 35, 36, 37, 38, 39, 40],\n",
       "       [41, 42, 43, 44, 45, 46, 47, 48, 49, 50]])"
      ]
     },
     "execution_count": 72,
     "metadata": {},
     "output_type": "execute_result"
    }
   ],
   "source": [
    "a1"
   ]
  },
  {
   "cell_type": "code",
   "execution_count": 73,
   "id": "f3b4c350",
   "metadata": {},
   "outputs": [
    {
     "data": {
      "text/plain": [
       "array([[ 0.84147098,  0.90929743,  0.14112001, -0.7568025 , -0.95892427,\n",
       "        -0.2794155 ,  0.6569866 ,  0.98935825,  0.41211849, -0.54402111],\n",
       "       [-0.99999021, -0.53657292,  0.42016704,  0.99060736,  0.65028784,\n",
       "        -0.28790332, -0.96139749, -0.75098725,  0.14987721,  0.91294525],\n",
       "       [ 0.83665564, -0.00885131, -0.8462204 , -0.90557836, -0.13235175,\n",
       "         0.76255845,  0.95637593,  0.27090579, -0.66363388, -0.98803162],\n",
       "       [-0.40403765,  0.55142668,  0.99991186,  0.52908269, -0.42818267,\n",
       "        -0.99177885, -0.64353813,  0.29636858,  0.96379539,  0.74511316],\n",
       "       [-0.15862267, -0.91652155, -0.83177474,  0.01770193,  0.85090352,\n",
       "         0.90178835,  0.12357312, -0.76825466, -0.95375265, -0.26237485]])"
      ]
     },
     "execution_count": 73,
     "metadata": {},
     "output_type": "execute_result"
    }
   ],
   "source": [
    "np.sin(a1)"
   ]
  },
  {
   "cell_type": "markdown",
   "id": "fffb433b",
   "metadata": {},
   "source": [
    "## 2.np.cos():\n",
    "Computes the cos value of each element in an array.\n",
    "\n",
    "## Syntax:\n",
    "np.cos(**args,***kwargs)"
   ]
  },
  {
   "cell_type": "code",
   "execution_count": 74,
   "id": "af58e458",
   "metadata": {},
   "outputs": [
    {
     "data": {
      "text/plain": [
       "array([[ 1,  2,  3,  4,  5,  6,  7,  8,  9, 10],\n",
       "       [11, 12, 13, 14, 15, 16, 17, 18, 19, 20],\n",
       "       [21, 22, 23, 24, 25, 26, 27, 28, 29, 30],\n",
       "       [31, 32, 33, 34, 35, 36, 37, 38, 39, 40],\n",
       "       [41, 42, 43, 44, 45, 46, 47, 48, 49, 50]])"
      ]
     },
     "execution_count": 74,
     "metadata": {},
     "output_type": "execute_result"
    }
   ],
   "source": [
    "a1"
   ]
  },
  {
   "cell_type": "code",
   "execution_count": 75,
   "id": "f02dc499",
   "metadata": {},
   "outputs": [
    {
     "data": {
      "text/plain": [
       "array([[ 0.54030231, -0.41614684, -0.9899925 , -0.65364362,  0.28366219,\n",
       "         0.96017029,  0.75390225, -0.14550003, -0.91113026, -0.83907153],\n",
       "       [ 0.0044257 ,  0.84385396,  0.90744678,  0.13673722, -0.75968791,\n",
       "        -0.95765948, -0.27516334,  0.66031671,  0.98870462,  0.40808206],\n",
       "       [-0.54772926, -0.99996083, -0.53283302,  0.42417901,  0.99120281,\n",
       "         0.64691932, -0.29213881, -0.96260587, -0.74805753,  0.15425145],\n",
       "       [ 0.91474236,  0.83422336, -0.01327675, -0.84857027, -0.90369221,\n",
       "        -0.12796369,  0.76541405,  0.95507364,  0.26664293, -0.66693806],\n",
       "       [-0.98733928, -0.39998531,  0.5551133 ,  0.99984331,  0.52532199,\n",
       "        -0.43217794, -0.99233547, -0.64014434,  0.30059254,  0.96496603]])"
      ]
     },
     "execution_count": 75,
     "metadata": {},
     "output_type": "execute_result"
    }
   ],
   "source": [
    "np.cos(a1)"
   ]
  },
  {
   "cell_type": "markdown",
   "id": "a19dcae3",
   "metadata": {},
   "source": [
    "## 3.np.tan():\n",
    "Computes the tan value of each element in an array.\n",
    "\n",
    "## Syntax:\n",
    "np.tan(**args,***kwargs)"
   ]
  },
  {
   "cell_type": "code",
   "execution_count": 76,
   "id": "bc7bc710",
   "metadata": {},
   "outputs": [
    {
     "data": {
      "text/plain": [
       "array([[ 1,  2,  3,  4,  5,  6,  7,  8,  9, 10],\n",
       "       [11, 12, 13, 14, 15, 16, 17, 18, 19, 20],\n",
       "       [21, 22, 23, 24, 25, 26, 27, 28, 29, 30],\n",
       "       [31, 32, 33, 34, 35, 36, 37, 38, 39, 40],\n",
       "       [41, 42, 43, 44, 45, 46, 47, 48, 49, 50]])"
      ]
     },
     "execution_count": 76,
     "metadata": {},
     "output_type": "execute_result"
    }
   ],
   "source": [
    "a1"
   ]
  },
  {
   "cell_type": "code",
   "execution_count": 77,
   "id": "27f91196",
   "metadata": {},
   "outputs": [
    {
     "data": {
      "text/plain": [
       "array([[ 1.55740772e+00, -2.18503986e+00, -1.42546543e-01,\n",
       "         1.15782128e+00, -3.38051501e+00, -2.91006191e-01,\n",
       "         8.71447983e-01, -6.79971146e+00, -4.52315659e-01,\n",
       "         6.48360827e-01],\n",
       "       [-2.25950846e+02, -6.35859929e-01,  4.63021133e-01,\n",
       "         7.24460662e+00, -8.55993401e-01,  3.00632242e-01,\n",
       "         3.49391565e+00, -1.13731371e+00,  1.51589471e-01,\n",
       "         2.23716094e+00],\n",
       "       [-1.52749853e+00,  8.85165604e-03,  1.58815308e+00,\n",
       "        -2.13489670e+00, -1.33526407e-01,  1.17875355e+00,\n",
       "        -3.27370380e+00, -2.81429605e-01,  8.87142844e-01,\n",
       "        -6.40533120e+00],\n",
       "       [-4.41695568e-01,  6.61006041e-01, -7.53130148e+01,\n",
       "        -6.23498963e-01,  4.73814720e-01,  7.75047091e+00,\n",
       "        -8.40771255e-01,  3.10309661e-01,  3.61455441e+00,\n",
       "        -1.11721493e+00],\n",
       "       [ 1.60656699e-01,  2.29138799e+00, -1.49838734e+00,\n",
       "         1.77046993e-02,  1.61977519e+00, -2.08661353e+00,\n",
       "        -1.24527568e-01,  1.20012724e+00, -3.17290855e+00,\n",
       "        -2.71900612e-01]])"
      ]
     },
     "execution_count": 77,
     "metadata": {},
     "output_type": "execute_result"
    }
   ],
   "source": [
    "np.tan(a1)"
   ]
  },
  {
   "cell_type": "markdown",
   "id": "7380891e",
   "metadata": {},
   "source": [
    "# Inverse-Trigonometric Functions\n",
    "\n",
    "\n",
    "In NumPy, inverse trigonometric functions are provided to compute the angles whose trigonometric functions yield specific values. Here are the main inverse trigonometric functions available in NumPy"
   ]
  },
  {
   "cell_type": "markdown",
   "id": "2b91e41d",
   "metadata": {},
   "source": [
    "## 1.arcsin():\n",
    "Computes the inverse-sin of the given array.\n",
    "\n",
    "## Syntax:\n",
    "np.arcsin(**args,***kwargs)"
   ]
  },
  {
   "cell_type": "code",
   "execution_count": 78,
   "id": "554ba247",
   "metadata": {},
   "outputs": [
    {
     "data": {
      "text/plain": [
       "array([0, 1, 0, 1])"
      ]
     },
     "execution_count": 78,
     "metadata": {},
     "output_type": "execute_result"
    }
   ],
   "source": [
    "a1=np.array([0,1,0,1])\n",
    "a1"
   ]
  },
  {
   "cell_type": "code",
   "execution_count": 79,
   "id": "2a5a3d3d",
   "metadata": {},
   "outputs": [
    {
     "data": {
      "text/plain": [
       "array([0.        , 1.57079633, 0.        , 1.57079633])"
      ]
     },
     "execution_count": 79,
     "metadata": {},
     "output_type": "execute_result"
    }
   ],
   "source": [
    "np.arcsin(a1)"
   ]
  },
  {
   "cell_type": "markdown",
   "id": "2d390fe1",
   "metadata": {},
   "source": [
    "## 2.arccos():\n",
    "Computes the inverse-cos of the given array.\n",
    "\n",
    "## Syntax:\n",
    "np.arccos(**args,***kwargs)"
   ]
  },
  {
   "cell_type": "code",
   "execution_count": 80,
   "id": "9c2832f0",
   "metadata": {},
   "outputs": [
    {
     "data": {
      "text/plain": [
       "array([0, 1, 0, 1])"
      ]
     },
     "execution_count": 80,
     "metadata": {},
     "output_type": "execute_result"
    }
   ],
   "source": [
    "a1"
   ]
  },
  {
   "cell_type": "code",
   "execution_count": 81,
   "id": "4efeb609",
   "metadata": {},
   "outputs": [
    {
     "data": {
      "text/plain": [
       "array([1.57079633, 0.        , 1.57079633, 0.        ])"
      ]
     },
     "execution_count": 81,
     "metadata": {},
     "output_type": "execute_result"
    }
   ],
   "source": [
    "np.arccos(a1)"
   ]
  },
  {
   "cell_type": "markdown",
   "id": "712bd74b",
   "metadata": {},
   "source": [
    "## 3.arctan():\n",
    "Computes the inverse-tan of the given array.\n",
    "\n",
    "## Syntax:\n",
    "np.arctan(**args,***kwargs)"
   ]
  },
  {
   "cell_type": "code",
   "execution_count": 82,
   "id": "6023513c",
   "metadata": {},
   "outputs": [
    {
     "data": {
      "text/plain": [
       "array([0, 1, 0, 1])"
      ]
     },
     "execution_count": 82,
     "metadata": {},
     "output_type": "execute_result"
    }
   ],
   "source": [
    "a1"
   ]
  },
  {
   "cell_type": "code",
   "execution_count": 83,
   "id": "9c5fc85b",
   "metadata": {},
   "outputs": [
    {
     "data": {
      "text/plain": [
       "array([0.        , 0.78539816, 0.        , 0.78539816])"
      ]
     },
     "execution_count": 83,
     "metadata": {},
     "output_type": "execute_result"
    }
   ],
   "source": [
    "np.arctan(a1)"
   ]
  },
  {
   "cell_type": "markdown",
   "id": "3218a7b6",
   "metadata": {},
   "source": [
    "# Hyperbolic Functions\n",
    "\n",
    "\n",
    "In NumPy, hyperbolic functions are provided to compute hyperbolic trigonometric operations on arrays. Here are the main hyperbolic functions available in NumPy"
   ]
  },
  {
   "cell_type": "markdown",
   "id": "f86b0873",
   "metadata": {},
   "source": [
    "## 1.np.sinh():\n",
    "Computes the Hyperbolic sine of an array.\n",
    "\n",
    "## Syntax:\n",
    "np.sinh(**args,***kwargs)"
   ]
  },
  {
   "cell_type": "code",
   "execution_count": 84,
   "id": "e7ee2fa0",
   "metadata": {},
   "outputs": [
    {
     "data": {
      "text/plain": [
       "array([0, 1, 0, 1])"
      ]
     },
     "execution_count": 84,
     "metadata": {},
     "output_type": "execute_result"
    }
   ],
   "source": [
    "a1"
   ]
  },
  {
   "cell_type": "code",
   "execution_count": 85,
   "id": "5816d7da",
   "metadata": {},
   "outputs": [
    {
     "data": {
      "text/plain": [
       "array([0.        , 1.17520119, 0.        , 1.17520119])"
      ]
     },
     "execution_count": 85,
     "metadata": {},
     "output_type": "execute_result"
    }
   ],
   "source": [
    "np.sinh(a1)"
   ]
  },
  {
   "cell_type": "markdown",
   "id": "3ba05c32",
   "metadata": {},
   "source": [
    "## 2.np.cosh():\n",
    "Computes the Hyperbolic cos of an array.\n",
    "\n",
    "## Syntax:\n",
    "np.cosh(**args,***kwargs)"
   ]
  },
  {
   "cell_type": "code",
   "execution_count": 86,
   "id": "a0e4026a",
   "metadata": {},
   "outputs": [
    {
     "data": {
      "text/plain": [
       "array([0, 1, 0, 1])"
      ]
     },
     "execution_count": 86,
     "metadata": {},
     "output_type": "execute_result"
    }
   ],
   "source": [
    "a1"
   ]
  },
  {
   "cell_type": "code",
   "execution_count": 87,
   "id": "b4d380b2",
   "metadata": {},
   "outputs": [
    {
     "data": {
      "text/plain": [
       "array([1.        , 1.54308063, 1.        , 1.54308063])"
      ]
     },
     "execution_count": 87,
     "metadata": {},
     "output_type": "execute_result"
    }
   ],
   "source": [
    "np.cosh(a1)"
   ]
  },
  {
   "cell_type": "markdown",
   "id": "65e04ffa",
   "metadata": {},
   "source": [
    "## 3.np.tanh():\n",
    "Computes the Hyperbolic tan of an array.\n",
    "\n",
    "## Syntax:\n",
    "np.tanh(**args,***kwargs)"
   ]
  },
  {
   "cell_type": "code",
   "execution_count": 88,
   "id": "b7d38a9f",
   "metadata": {},
   "outputs": [
    {
     "data": {
      "text/plain": [
       "array([0, 1, 0, 1])"
      ]
     },
     "execution_count": 88,
     "metadata": {},
     "output_type": "execute_result"
    }
   ],
   "source": [
    "a1"
   ]
  },
  {
   "cell_type": "code",
   "execution_count": 89,
   "id": "c2f52009",
   "metadata": {},
   "outputs": [
    {
     "data": {
      "text/plain": [
       "array([0.        , 0.76159416, 0.        , 0.76159416])"
      ]
     },
     "execution_count": 89,
     "metadata": {},
     "output_type": "execute_result"
    }
   ],
   "source": [
    "np.tanh(a1)"
   ]
  },
  {
   "cell_type": "markdown",
   "id": "70b29ab9",
   "metadata": {},
   "source": [
    "# Invesre-Hyperbolic Functions\n",
    "\n",
    "\n",
    "In NumPy, inverse hyperbolic functions are provided to compute the inverse hyperbolic trigonometric operations on arrays. Here are the main inverse hyperbolic functions available in NumPy:"
   ]
  },
  {
   "cell_type": "markdown",
   "id": "bbd436a2",
   "metadata": {},
   "source": [
    "## 1.arcsinh():\n",
    "Computes Inverse Hyperbolic sine of an array.\n",
    "\n",
    "## Syntax:\n",
    "np.arcsinh(**args,***kwargs)"
   ]
  },
  {
   "cell_type": "code",
   "execution_count": 90,
   "id": "982b60ea",
   "metadata": {},
   "outputs": [
    {
     "data": {
      "text/plain": [
       "array([0, 1, 0, 1])"
      ]
     },
     "execution_count": 90,
     "metadata": {},
     "output_type": "execute_result"
    }
   ],
   "source": [
    "a1"
   ]
  },
  {
   "cell_type": "code",
   "execution_count": 91,
   "id": "395b3cc2",
   "metadata": {},
   "outputs": [
    {
     "data": {
      "text/plain": [
       "array([0.        , 0.88137359, 0.        , 0.88137359])"
      ]
     },
     "execution_count": 91,
     "metadata": {},
     "output_type": "execute_result"
    }
   ],
   "source": [
    "np.arcsinh(a1)"
   ]
  },
  {
   "cell_type": "markdown",
   "id": "4a76b64b",
   "metadata": {},
   "source": [
    "## 2.np.arccosh():\n",
    "Computes Invsers Hyperbolic cos of an array.\n",
    "\n",
    "## Syntax:\n",
    "np.arccosh(**args,***kwargs)"
   ]
  },
  {
   "cell_type": "code",
   "execution_count": 92,
   "id": "2e5868f0",
   "metadata": {},
   "outputs": [
    {
     "data": {
      "text/plain": [
       "array([0, 1, 0, 1])"
      ]
     },
     "execution_count": 92,
     "metadata": {},
     "output_type": "execute_result"
    }
   ],
   "source": [
    "a1"
   ]
  },
  {
   "cell_type": "code",
   "execution_count": 93,
   "id": "38605931",
   "metadata": {},
   "outputs": [
    {
     "name": "stderr",
     "output_type": "stream",
     "text": [
      "C:\\Users\\RAGHAVENDRA KUMAR\\AppData\\Local\\Temp\\ipykernel_29152\\1637439351.py:1: RuntimeWarning: invalid value encountered in arccosh\n",
      "  np.arccosh(a1)\n"
     ]
    },
    {
     "data": {
      "text/plain": [
       "array([nan,  0., nan,  0.])"
      ]
     },
     "execution_count": 93,
     "metadata": {},
     "output_type": "execute_result"
    }
   ],
   "source": [
    "np.arccosh(a1)"
   ]
  },
  {
   "cell_type": "markdown",
   "id": "ebbe4e0c",
   "metadata": {},
   "source": [
    "## 3.np.arctanh():\n",
    "Computes Invsers Hyperbolic tan of an array.\n",
    "\n",
    "## Syntax:\n",
    "np.arctanh(**args,***kwargs)"
   ]
  },
  {
   "cell_type": "code",
   "execution_count": 94,
   "id": "b816b94d",
   "metadata": {},
   "outputs": [
    {
     "data": {
      "text/plain": [
       "array([0, 1, 0, 1])"
      ]
     },
     "execution_count": 94,
     "metadata": {},
     "output_type": "execute_result"
    }
   ],
   "source": [
    "a1"
   ]
  },
  {
   "cell_type": "code",
   "execution_count": 95,
   "id": "fcdf62ba",
   "metadata": {},
   "outputs": [
    {
     "name": "stderr",
     "output_type": "stream",
     "text": [
      "C:\\Users\\RAGHAVENDRA KUMAR\\AppData\\Local\\Temp\\ipykernel_29152\\1974361636.py:1: RuntimeWarning: divide by zero encountered in arctanh\n",
      "  np.arctanh(a1)\n"
     ]
    },
    {
     "data": {
      "text/plain": [
       "array([ 0., inf,  0., inf])"
      ]
     },
     "execution_count": 95,
     "metadata": {},
     "output_type": "execute_result"
    }
   ],
   "source": [
    "np.arctanh(a1)"
   ]
  },
  {
   "cell_type": "markdown",
   "id": "4c8caf73",
   "metadata": {},
   "source": [
    "# Conversion Functions:\n",
    "\n"
   ]
  },
  {
   "cell_type": "markdown",
   "id": "02200fae",
   "metadata": {},
   "source": [
    "## 1.np.deg2rad(x): \n",
    "Convert angles from degrees to radians.\n",
    "\n",
    "## Syntax:\n",
    "np.deg2rad(**args,***kwargs)\n"
   ]
  },
  {
   "cell_type": "code",
   "execution_count": 96,
   "id": "5a74e497",
   "metadata": {},
   "outputs": [
    {
     "data": {
      "text/plain": [
       "array([0.        , 0.78539816, 1.57079633, 3.14159265])"
      ]
     },
     "execution_count": 96,
     "metadata": {},
     "output_type": "execute_result"
    }
   ],
   "source": [
    "x1=np.array([0,45,90,180])\n",
    "np.deg2rad(x1)"
   ]
  },
  {
   "cell_type": "markdown",
   "id": "e181b493",
   "metadata": {},
   "source": [
    "## 2.np.rad2deg(x): \n",
    "Convert angles from radians to degrees.\n",
    "\n",
    "## Syntax:\n",
    "np.deg2rad(**args,***kwargs)\n"
   ]
  },
  {
   "cell_type": "code",
   "execution_count": 97,
   "id": "1e0ecfd9",
   "metadata": {},
   "outputs": [
    {
     "data": {
      "text/plain": [
       "array([    0.        ,  2578.31007809,  5156.62015618, 10313.24031235])"
      ]
     },
     "execution_count": 97,
     "metadata": {},
     "output_type": "execute_result"
    }
   ],
   "source": [
    "x1=np.array([0,45,90,180])\n",
    "np.rad2deg(x1)"
   ]
  },
  {
   "cell_type": "markdown",
   "id": "ed7b1364",
   "metadata": {},
   "source": [
    "# Statistical Functions\n",
    "\n",
    "NumPy provides a variety of statistical functions for analyzing data stored in arrays. These functions can calculate various statistical measures such as mean, median, standard deviation, variance, and more. Here are some commonly used statistical functions in NumPy:\n",
    "\n"
   ]
  },
  {
   "cell_type": "markdown",
   "id": "b0730cfb",
   "metadata": {},
   "source": [
    "## 1.np.mean():\n",
    "Computes mean along the specified axis on the given array.\n",
    "\n",
    "## Syntax:\n",
    "np.mean(a,axis=None)"
   ]
  },
  {
   "cell_type": "code",
   "execution_count": 98,
   "id": "5cd25e3b",
   "metadata": {},
   "outputs": [
    {
     "data": {
      "text/plain": [
       "array([[1, 2, 3],\n",
       "       [4, 5, 6],\n",
       "       [7, 8, 9]])"
      ]
     },
     "execution_count": 98,
     "metadata": {},
     "output_type": "execute_result"
    }
   ],
   "source": [
    "x1=np.arange(1,10).reshape(3,3)\n",
    "x1"
   ]
  },
  {
   "cell_type": "code",
   "execution_count": 99,
   "id": "7d10beb2",
   "metadata": {},
   "outputs": [
    {
     "data": {
      "text/plain": [
       "5.0"
      ]
     },
     "execution_count": 99,
     "metadata": {},
     "output_type": "execute_result"
    }
   ],
   "source": [
    "np.mean(x1)"
   ]
  },
  {
   "cell_type": "code",
   "execution_count": 100,
   "id": "e34cdefb",
   "metadata": {},
   "outputs": [
    {
     "data": {
      "text/plain": [
       "array([4., 5., 6.])"
      ]
     },
     "execution_count": 100,
     "metadata": {},
     "output_type": "execute_result"
    }
   ],
   "source": [
    "np.mean(x1,axis=0)"
   ]
  },
  {
   "cell_type": "code",
   "execution_count": 101,
   "id": "37be3db1",
   "metadata": {},
   "outputs": [
    {
     "data": {
      "text/plain": [
       "array([2., 5., 8.])"
      ]
     },
     "execution_count": 101,
     "metadata": {},
     "output_type": "execute_result"
    }
   ],
   "source": [
    "np.mean(x1,axis=1)"
   ]
  },
  {
   "cell_type": "markdown",
   "id": "03c86c1f",
   "metadata": {},
   "source": [
    "## 2.np.median():\n",
    "Computes median along the specified axis on the given array.\n",
    "\n",
    "## Syntax:\n",
    "np.median(a,axis=None)"
   ]
  },
  {
   "cell_type": "code",
   "execution_count": 102,
   "id": "fa94ad7f",
   "metadata": {},
   "outputs": [
    {
     "data": {
      "text/plain": [
       "array([[1, 2, 3],\n",
       "       [4, 5, 6],\n",
       "       [7, 8, 9]])"
      ]
     },
     "execution_count": 102,
     "metadata": {},
     "output_type": "execute_result"
    }
   ],
   "source": [
    "x1"
   ]
  },
  {
   "cell_type": "code",
   "execution_count": 103,
   "id": "6e1aa9ba",
   "metadata": {},
   "outputs": [
    {
     "data": {
      "text/plain": [
       "5.0"
      ]
     },
     "execution_count": 103,
     "metadata": {},
     "output_type": "execute_result"
    }
   ],
   "source": [
    "np.median(x1)"
   ]
  },
  {
   "cell_type": "code",
   "execution_count": 104,
   "id": "ff016c59",
   "metadata": {},
   "outputs": [
    {
     "data": {
      "text/plain": [
       "array([4., 5., 6.])"
      ]
     },
     "execution_count": 104,
     "metadata": {},
     "output_type": "execute_result"
    }
   ],
   "source": [
    "np.median(x1,axis=0)"
   ]
  },
  {
   "cell_type": "code",
   "execution_count": 105,
   "id": "412311e1",
   "metadata": {},
   "outputs": [
    {
     "data": {
      "text/plain": [
       "array([2., 5., 8.])"
      ]
     },
     "execution_count": 105,
     "metadata": {},
     "output_type": "execute_result"
    }
   ],
   "source": [
    "np.median(x1,axis=1)"
   ]
  },
  {
   "cell_type": "markdown",
   "id": "29e89098",
   "metadata": {},
   "source": [
    "## 3.np.var():\n",
    "Computes variance along the specified axis on the given array.\n",
    "\n",
    "## Syntax:\n",
    "np.var(a,axis=None)"
   ]
  },
  {
   "cell_type": "code",
   "execution_count": 106,
   "id": "00553d33",
   "metadata": {},
   "outputs": [
    {
     "data": {
      "text/plain": [
       "array([[1, 2, 3],\n",
       "       [4, 5, 6],\n",
       "       [7, 8, 9]])"
      ]
     },
     "execution_count": 106,
     "metadata": {},
     "output_type": "execute_result"
    }
   ],
   "source": [
    "x1"
   ]
  },
  {
   "cell_type": "code",
   "execution_count": 107,
   "id": "03c5eb2e",
   "metadata": {},
   "outputs": [
    {
     "data": {
      "text/plain": [
       "6.666666666666667"
      ]
     },
     "execution_count": 107,
     "metadata": {},
     "output_type": "execute_result"
    }
   ],
   "source": [
    "np.var(x1)"
   ]
  },
  {
   "cell_type": "code",
   "execution_count": 108,
   "id": "cf4454a4",
   "metadata": {},
   "outputs": [
    {
     "data": {
      "text/plain": [
       "array([6., 6., 6.])"
      ]
     },
     "execution_count": 108,
     "metadata": {},
     "output_type": "execute_result"
    }
   ],
   "source": [
    "np.var(x1,axis=0)"
   ]
  },
  {
   "cell_type": "code",
   "execution_count": 109,
   "id": "699a4074",
   "metadata": {},
   "outputs": [
    {
     "data": {
      "text/plain": [
       "array([0.66666667, 0.66666667, 0.66666667])"
      ]
     },
     "execution_count": 109,
     "metadata": {},
     "output_type": "execute_result"
    }
   ],
   "source": [
    "np.var(x1,axis=1)"
   ]
  },
  {
   "cell_type": "markdown",
   "id": "41aad0df",
   "metadata": {},
   "source": [
    "## 4.np.std():\n",
    "Computes standard deviation along the specified axis on the given array.\n",
    "\n",
    "## Syntax:\n",
    "np.std(a,axis=None)"
   ]
  },
  {
   "cell_type": "code",
   "execution_count": 110,
   "id": "236ef7f7",
   "metadata": {},
   "outputs": [
    {
     "data": {
      "text/plain": [
       "array([[1, 2, 3],\n",
       "       [4, 5, 6],\n",
       "       [7, 8, 9]])"
      ]
     },
     "execution_count": 110,
     "metadata": {},
     "output_type": "execute_result"
    }
   ],
   "source": [
    "x1"
   ]
  },
  {
   "cell_type": "code",
   "execution_count": 111,
   "id": "a67ed1af",
   "metadata": {},
   "outputs": [
    {
     "data": {
      "text/plain": [
       "2.581988897471611"
      ]
     },
     "execution_count": 111,
     "metadata": {},
     "output_type": "execute_result"
    }
   ],
   "source": [
    "np.std(x1)"
   ]
  },
  {
   "cell_type": "code",
   "execution_count": 112,
   "id": "5d200550",
   "metadata": {},
   "outputs": [
    {
     "data": {
      "text/plain": [
       "array([0.81649658, 0.81649658, 0.81649658])"
      ]
     },
     "execution_count": 112,
     "metadata": {},
     "output_type": "execute_result"
    }
   ],
   "source": [
    "np.std(x1,axis=1)"
   ]
  },
  {
   "cell_type": "code",
   "execution_count": 113,
   "id": "c2d93b2e",
   "metadata": {},
   "outputs": [
    {
     "data": {
      "text/plain": [
       "array([2.44948974, 2.44948974, 2.44948974])"
      ]
     },
     "execution_count": 113,
     "metadata": {},
     "output_type": "execute_result"
    }
   ],
   "source": [
    "np.std(x1,axis=0)"
   ]
  },
  {
   "cell_type": "markdown",
   "id": "3af8eed5",
   "metadata": {},
   "source": [
    "# Random functions\n",
    "\n",
    "\n",
    "NumPy provides a powerful suite of functions for generating random numbers and random arrays with various distributions. These functions are part of the numpy.random module. Here are some commonly used random functions in NumPy:"
   ]
  },
  {
   "cell_type": "markdown",
   "id": "4bc62c79",
   "metadata": {},
   "source": [
    "## 1.np.random.rand():\n",
    "Returns a random float between 0 and 1.\n",
    "\n",
    "## Syntax:\n",
    "np.random.rand(shape)\n"
   ]
  },
  {
   "cell_type": "code",
   "execution_count": 114,
   "id": "6dae3eac",
   "metadata": {},
   "outputs": [
    {
     "data": {
      "text/plain": [
       "array([[0.59442781, 0.76966253, 0.32153668, 0.17426291],\n",
       "       [0.22982538, 0.90721924, 0.08255052, 0.4795993 ],\n",
       "       [0.63240161, 0.10213286, 0.30128344, 0.07397356]])"
      ]
     },
     "execution_count": 114,
     "metadata": {},
     "output_type": "execute_result"
    }
   ],
   "source": [
    "np.random.rand(3,4)"
   ]
  },
  {
   "cell_type": "code",
   "execution_count": 115,
   "id": "f74db311",
   "metadata": {},
   "outputs": [
    {
     "data": {
      "text/plain": [
       "array([0.99479348, 0.49213411, 0.67309538, 0.90851997])"
      ]
     },
     "execution_count": 115,
     "metadata": {},
     "output_type": "execute_result"
    }
   ],
   "source": [
    "np.random.rand(4)"
   ]
  },
  {
   "cell_type": "code",
   "execution_count": 116,
   "id": "b24388f7",
   "metadata": {},
   "outputs": [
    {
     "data": {
      "text/plain": [
       "0.23474490629557365"
      ]
     },
     "execution_count": 116,
     "metadata": {},
     "output_type": "execute_result"
    }
   ],
   "source": [
    "np.random.rand()"
   ]
  },
  {
   "cell_type": "markdown",
   "id": "252eb97b",
   "metadata": {},
   "source": [
    "## 2.np.random.randint():\n",
    "The np.random.randint() function generates random integers within a specified range. It's similar to the random.randint()\n",
    "\n",
    "## Syntax:\n",
    "np.random.randint(start,stop,size=None)-----End is inclusive"
   ]
  },
  {
   "cell_type": "code",
   "execution_count": 117,
   "id": "5b8ec3ca",
   "metadata": {},
   "outputs": [
    {
     "data": {
      "text/plain": [
       "array([[9, 8],\n",
       "       [9, 6],\n",
       "       [9, 7],\n",
       "       [1, 3],\n",
       "       [9, 9]])"
      ]
     },
     "execution_count": 117,
     "metadata": {},
     "output_type": "execute_result"
    }
   ],
   "source": [
    "np.random.randint(1,10,(5,2))"
   ]
  },
  {
   "cell_type": "markdown",
   "id": "8c7e18e0",
   "metadata": {},
   "source": [
    "## 3.np.random.choice():\n",
    "np.random.choice() takes array/list as parameter and randomly returns one value.\n",
    "\n",
    "## Syntax:\n",
    "np.random.choice(a,size=None)"
   ]
  },
  {
   "cell_type": "code",
   "execution_count": 118,
   "id": "ca47e346",
   "metadata": {},
   "outputs": [
    {
     "data": {
      "text/plain": [
       "array([[1, 7, 3],\n",
       "       [3, 8, 3],\n",
       "       [6, 5, 1]])"
      ]
     },
     "execution_count": 118,
     "metadata": {},
     "output_type": "execute_result"
    }
   ],
   "source": [
    "np.random.choice(np.arange(1,10),(3,3))"
   ]
  },
  {
   "cell_type": "code",
   "execution_count": 119,
   "id": "2c3a15be",
   "metadata": {},
   "outputs": [
    {
     "data": {
      "text/plain": [
       "7"
      ]
     },
     "execution_count": 119,
     "metadata": {},
     "output_type": "execute_result"
    }
   ],
   "source": [
    "np.random.choice(np.arange(1,10))"
   ]
  },
  {
   "cell_type": "markdown",
   "id": "e6c04624",
   "metadata": {},
   "source": [
    "## 4.np.random.uniform(): \n",
    "This function generates random numbers from a uniform distribution within a specified range. It returns an array of random numbers with the shape specified by the arguments, and the numbers are evenly distributed within the specified range.\n",
    "\n",
    "## Syntax:\n",
    "np.random.uniform(low=0,high=1.0,size)"
   ]
  },
  {
   "cell_type": "code",
   "execution_count": 120,
   "id": "ece417a4",
   "metadata": {},
   "outputs": [
    {
     "data": {
      "text/plain": [
       "array([[ 8.87230708,  0.27954566, 34.05357951, 25.55417876],\n",
       "       [35.49267855, 42.15423167, 42.20585322, 20.0267318 ],\n",
       "       [36.21753029, 10.39486843, 32.70881629, 29.31215567]])"
      ]
     },
     "execution_count": 120,
     "metadata": {},
     "output_type": "execute_result"
    }
   ],
   "source": [
    "np.random.uniform(0,50,(3,4))"
   ]
  },
  {
   "cell_type": "code",
   "execution_count": 121,
   "id": "08c74f71",
   "metadata": {},
   "outputs": [
    {
     "data": {
      "text/plain": [
       "0.9757388905165043"
      ]
     },
     "execution_count": 121,
     "metadata": {},
     "output_type": "execute_result"
    }
   ],
   "source": [
    "np.random.uniform()"
   ]
  },
  {
   "cell_type": "markdown",
   "id": "bc46492a",
   "metadata": {},
   "source": [
    "## 5.np.random.randn(): \n",
    "This function generates random numbers from a standard normal distribution (mean = 0, standard deviation = 1). It returns an array of random numbers with the shape specified by the arguments.\n",
    "\n",
    "## Syntax:\n",
    "np.random.randn(shape)"
   ]
  },
  {
   "cell_type": "code",
   "execution_count": 122,
   "id": "c5f5fbdf",
   "metadata": {},
   "outputs": [
    {
     "data": {
      "text/plain": [
       "-1.5470147129232985"
      ]
     },
     "execution_count": 122,
     "metadata": {},
     "output_type": "execute_result"
    }
   ],
   "source": [
    "np.random.randn()"
   ]
  },
  {
   "cell_type": "code",
   "execution_count": 123,
   "id": "b8ff10a0",
   "metadata": {},
   "outputs": [
    {
     "data": {
      "text/plain": [
       "array([[ 2.3304884 ,  1.53296196,  0.80674383,  1.95758766],\n",
       "       [-0.37610738, -1.00333361, -1.29128234,  0.17999903],\n",
       "       [ 0.65024447,  0.37129812,  0.2190139 , -0.65435638]])"
      ]
     },
     "execution_count": 123,
     "metadata": {},
     "output_type": "execute_result"
    }
   ],
   "source": [
    "np.random.randn(3,4)"
   ]
  },
  {
   "cell_type": "markdown",
   "id": "0d2b164b",
   "metadata": {},
   "source": [
    "## 6.np.random.shuffle():\n",
    "shuffles the array in place, meaning it modifies the original array. \n",
    "\n",
    "## Syntax:\n",
    "np.random.shuffle(a1)"
   ]
  },
  {
   "cell_type": "code",
   "execution_count": 124,
   "id": "60143baf",
   "metadata": {},
   "outputs": [
    {
     "data": {
      "text/plain": [
       "array([1, 2, 3, 4, 5])"
      ]
     },
     "execution_count": 124,
     "metadata": {},
     "output_type": "execute_result"
    }
   ],
   "source": [
    "x1=np.array([1,2,3,4,5])\n",
    "x1"
   ]
  },
  {
   "cell_type": "code",
   "execution_count": 125,
   "id": "67812875",
   "metadata": {},
   "outputs": [],
   "source": [
    "np.random.shuffle(x1)"
   ]
  },
  {
   "cell_type": "code",
   "execution_count": 126,
   "id": "d373fecd",
   "metadata": {},
   "outputs": [
    {
     "data": {
      "text/plain": [
       "array([4, 5, 1, 3, 2])"
      ]
     },
     "execution_count": 126,
     "metadata": {},
     "output_type": "execute_result"
    }
   ],
   "source": [
    "x1"
   ]
  },
  {
   "cell_type": "markdown",
   "id": "df1dc3d7",
   "metadata": {},
   "source": [
    "# Exponential Functions\n",
    "\n",
    "In NumPy, exponential functions are provided to compute the exponential of each element in an array. Here are the main exponential functions available in NumPy:\n",
    "\n"
   ]
  },
  {
   "cell_type": "markdown",
   "id": "b44f3905",
   "metadata": {},
   "source": [
    "## 1.np.exp(x): \n",
    " This function computes the exponential of each element in the input array x. The exponential function calculates \n",
    "�\n",
    "�\n",
    "e \n",
    "x\n",
    " , where \n",
    "�\n",
    "e is Euler's number (approximately 2.71828)\n",
    "\n",
    "## Syntax:\n",
    "np.exp(a1)"
   ]
  },
  {
   "cell_type": "code",
   "execution_count": 127,
   "id": "7dcb467a",
   "metadata": {},
   "outputs": [
    {
     "data": {
      "text/plain": [
       "array([4, 5, 1, 3, 2])"
      ]
     },
     "execution_count": 127,
     "metadata": {},
     "output_type": "execute_result"
    }
   ],
   "source": [
    "x1"
   ]
  },
  {
   "cell_type": "code",
   "execution_count": 128,
   "id": "38a1adee",
   "metadata": {},
   "outputs": [
    {
     "data": {
      "text/plain": [
       "array([ 54.59815003, 148.4131591 ,   2.71828183,  20.08553692,\n",
       "         7.3890561 ])"
      ]
     },
     "execution_count": 128,
     "metadata": {},
     "output_type": "execute_result"
    }
   ],
   "source": [
    "np.exp(x1)"
   ]
  },
  {
   "cell_type": "markdown",
   "id": "6840d99f",
   "metadata": {},
   "source": [
    "## 2.np.exp2(x): \n",
    "This function computes \n",
    "2\n",
    "�\n",
    "2 \n",
    "x\n",
    "  for each element in the input array x\n",
    "    \n",
    "## Syntax:\n",
    "np.exp2(a1)"
   ]
  },
  {
   "cell_type": "code",
   "execution_count": 129,
   "id": "4474ebf4",
   "metadata": {},
   "outputs": [
    {
     "data": {
      "text/plain": [
       "array([4, 5, 1, 3, 2])"
      ]
     },
     "execution_count": 129,
     "metadata": {},
     "output_type": "execute_result"
    }
   ],
   "source": [
    "x1"
   ]
  },
  {
   "cell_type": "code",
   "execution_count": 130,
   "id": "33f31da5",
   "metadata": {},
   "outputs": [
    {
     "data": {
      "text/plain": [
       "array([16., 32.,  2.,  8.,  4.])"
      ]
     },
     "execution_count": 130,
     "metadata": {},
     "output_type": "execute_result"
    }
   ],
   "source": [
    "np.exp2(x1)"
   ]
  },
  {
   "cell_type": "markdown",
   "id": "71fa797a",
   "metadata": {},
   "source": [
    "## 3.np.expm1(x): \n",
    "This function computes \n",
    "�\n",
    "�\n",
    "−\n",
    "1\n",
    "e \n",
    "x\n",
    " −1 for each element in the input array x. It is useful for computing small values of \n",
    "�\n",
    "�\n",
    "−\n",
    "1\n",
    "e \n",
    "x\n",
    " −1 accurately.\n",
    "\n",
    "## Syntax:\n",
    "np.expm1(a1)"
   ]
  },
  {
   "cell_type": "code",
   "execution_count": 131,
   "id": "da704b02",
   "metadata": {},
   "outputs": [
    {
     "data": {
      "text/plain": [
       "array([4, 5, 1, 3, 2])"
      ]
     },
     "execution_count": 131,
     "metadata": {},
     "output_type": "execute_result"
    }
   ],
   "source": [
    "x1"
   ]
  },
  {
   "cell_type": "code",
   "execution_count": 132,
   "id": "c077ce4e",
   "metadata": {},
   "outputs": [
    {
     "data": {
      "text/plain": [
       "array([ 53.59815003, 147.4131591 ,   1.71828183,  19.08553692,\n",
       "         6.3890561 ])"
      ]
     },
     "execution_count": 132,
     "metadata": {},
     "output_type": "execute_result"
    }
   ],
   "source": [
    "np.expm1(x1)"
   ]
  },
  {
   "cell_type": "markdown",
   "id": "eec02aa0",
   "metadata": {},
   "source": [
    "# Logarithemic Functions\n",
    "\n",
    "\n",
    "In NumPy, logarithmic functions are provided to compute the logarithm of each element in an array. Here are the main logarithmic functions available in NumPy:"
   ]
  },
  {
   "cell_type": "markdown",
   "id": "273b8945",
   "metadata": {},
   "source": [
    "## 1.np.log(x): \n",
    "This function computes the natural logarithm (base e) of each element in the input array x.\n",
    "\n",
    "## Syntax:\n",
    "np.log(a1)"
   ]
  },
  {
   "cell_type": "code",
   "execution_count": 133,
   "id": "7ae0a21a",
   "metadata": {},
   "outputs": [
    {
     "data": {
      "text/plain": [
       "array([4, 5, 1, 3, 2])"
      ]
     },
     "execution_count": 133,
     "metadata": {},
     "output_type": "execute_result"
    }
   ],
   "source": [
    "x1"
   ]
  },
  {
   "cell_type": "code",
   "execution_count": 134,
   "id": "34a65fc4",
   "metadata": {},
   "outputs": [
    {
     "data": {
      "text/plain": [
       "array([1.38629436, 1.60943791, 0.        , 1.09861229, 0.69314718])"
      ]
     },
     "execution_count": 134,
     "metadata": {},
     "output_type": "execute_result"
    }
   ],
   "source": [
    "np.log(x1)"
   ]
  },
  {
   "cell_type": "markdown",
   "id": "4b38c9bb",
   "metadata": {},
   "source": [
    "## 2.np.log10(x): \n",
    "This function computes the base-10 logarithm of each element in the input array x.\n",
    "\n",
    "## Syntax:\n",
    "np.log10(a1)"
   ]
  },
  {
   "cell_type": "code",
   "execution_count": 135,
   "id": "40c6f680",
   "metadata": {},
   "outputs": [
    {
     "data": {
      "text/plain": [
       "array([4, 5, 1, 3, 2])"
      ]
     },
     "execution_count": 135,
     "metadata": {},
     "output_type": "execute_result"
    }
   ],
   "source": [
    "x1"
   ]
  },
  {
   "cell_type": "code",
   "execution_count": 136,
   "id": "b2232b80",
   "metadata": {},
   "outputs": [
    {
     "data": {
      "text/plain": [
       "array([0.60205999, 0.69897   , 0.        , 0.47712125, 0.30103   ])"
      ]
     },
     "execution_count": 136,
     "metadata": {},
     "output_type": "execute_result"
    }
   ],
   "source": [
    "np.log10(x1)"
   ]
  },
  {
   "cell_type": "markdown",
   "id": "863067a7",
   "metadata": {},
   "source": [
    "## 3.np.log2(x): \n",
    "This function computes the base-2 logarithm of each element in the input array x.\n",
    "\n",
    "## Syntax:\n",
    "np.log2(a1)"
   ]
  },
  {
   "cell_type": "code",
   "execution_count": 137,
   "id": "0f168b08",
   "metadata": {},
   "outputs": [
    {
     "data": {
      "text/plain": [
       "array([4, 5, 1, 3, 2])"
      ]
     },
     "execution_count": 137,
     "metadata": {},
     "output_type": "execute_result"
    }
   ],
   "source": [
    "x1"
   ]
  },
  {
   "cell_type": "code",
   "execution_count": 138,
   "id": "5706ca0c",
   "metadata": {},
   "outputs": [
    {
     "data": {
      "text/plain": [
       "array([2.        , 2.32192809, 0.        , 1.5849625 , 1.        ])"
      ]
     },
     "execution_count": 138,
     "metadata": {},
     "output_type": "execute_result"
    }
   ],
   "source": [
    "np.log2(x1)"
   ]
  },
  {
   "cell_type": "markdown",
   "id": "8578405f",
   "metadata": {},
   "source": [
    "# Matrix Functions\n",
    "\n",
    "NumPy provides various functions for working with matrices, including matrix creation, manipulation, and operations. Here are some commonly used matrix functions in NumPy:"
   ]
  },
  {
   "cell_type": "markdown",
   "id": "ab3417af",
   "metadata": {},
   "source": [
    "## 1.np.dot():\n",
    "Matrix multiplication of two arrays.\n",
    "\n",
    "## Syntax:\n",
    "np.dot(a,b,out=None)"
   ]
  },
  {
   "cell_type": "code",
   "execution_count": 139,
   "id": "e8530c41",
   "metadata": {},
   "outputs": [
    {
     "data": {
      "text/plain": [
       "(array([[1, 2, 3],\n",
       "        [4, 5, 6],\n",
       "        [7, 8, 9]]),\n",
       " array([[10, 11, 12],\n",
       "        [13, 14, 15],\n",
       "        [16, 17, 18]]))"
      ]
     },
     "execution_count": 139,
     "metadata": {},
     "output_type": "execute_result"
    }
   ],
   "source": [
    "x1=np.array([[1,2,3],[4,5,6],[7,8,9]])\n",
    "x2=np.array([[10,11,12],[13,14,15],[16,17,18]])\n",
    "x1,x2"
   ]
  },
  {
   "cell_type": "code",
   "execution_count": 140,
   "id": "03931bf2",
   "metadata": {},
   "outputs": [
    {
     "data": {
      "text/plain": [
       "array([[ 84,  90,  96],\n",
       "       [201, 216, 231],\n",
       "       [318, 342, 366]])"
      ]
     },
     "execution_count": 140,
     "metadata": {},
     "output_type": "execute_result"
    }
   ],
   "source": [
    "np.dot(x1,x2)"
   ]
  },
  {
   "cell_type": "markdown",
   "id": "83d3bc99",
   "metadata": {},
   "source": [
    "## 2.np.matmul():\n",
    "Another way to perform matrix multiplication.\n",
    "\n",
    "## Syntax:\n",
    "np.matmul(**args,***kwargs)"
   ]
  },
  {
   "cell_type": "code",
   "execution_count": 141,
   "id": "a2b048e1",
   "metadata": {},
   "outputs": [
    {
     "data": {
      "text/plain": [
       "(array([[1, 2, 3],\n",
       "        [4, 5, 6],\n",
       "        [7, 8, 9]]),\n",
       " array([[10, 11, 12],\n",
       "        [13, 14, 15],\n",
       "        [16, 17, 18]]))"
      ]
     },
     "execution_count": 141,
     "metadata": {},
     "output_type": "execute_result"
    }
   ],
   "source": [
    "x1,x2"
   ]
  },
  {
   "cell_type": "code",
   "execution_count": 142,
   "id": "2bb50080",
   "metadata": {},
   "outputs": [
    {
     "data": {
      "text/plain": [
       "array([[ 84,  90,  96],\n",
       "       [201, 216, 231],\n",
       "       [318, 342, 366]])"
      ]
     },
     "execution_count": 142,
     "metadata": {},
     "output_type": "execute_result"
    }
   ],
   "source": [
    "np.matmul(x1,x2)"
   ]
  },
  {
   "cell_type": "markdown",
   "id": "ee7edafe",
   "metadata": {},
   "source": [
    "## 3.np.transpose(): \n",
    "Computes Transpose of a matrix.\n",
    "\n",
    "## Syntax:\n",
    "np.transpose(a)"
   ]
  },
  {
   "cell_type": "code",
   "execution_count": 143,
   "id": "a266e001",
   "metadata": {},
   "outputs": [
    {
     "data": {
      "text/plain": [
       "array([[1, 2, 3],\n",
       "       [4, 5, 6],\n",
       "       [7, 8, 9]])"
      ]
     },
     "execution_count": 143,
     "metadata": {},
     "output_type": "execute_result"
    }
   ],
   "source": [
    "x1"
   ]
  },
  {
   "cell_type": "code",
   "execution_count": 144,
   "id": "e44063bc",
   "metadata": {},
   "outputs": [
    {
     "data": {
      "text/plain": [
       "array([[1, 4, 7],\n",
       "       [2, 5, 8],\n",
       "       [3, 6, 9]])"
      ]
     },
     "execution_count": 144,
     "metadata": {},
     "output_type": "execute_result"
    }
   ],
   "source": [
    "np.transpose(x1)"
   ]
  },
  {
   "cell_type": "code",
   "execution_count": 145,
   "id": "7e896171",
   "metadata": {},
   "outputs": [
    {
     "data": {
      "text/plain": [
       "array([[1, 4, 7],\n",
       "       [2, 5, 8],\n",
       "       [3, 6, 9]])"
      ]
     },
     "execution_count": 145,
     "metadata": {},
     "output_type": "execute_result"
    }
   ],
   "source": [
    "x1.T"
   ]
  },
  {
   "cell_type": "markdown",
   "id": "27e8b683",
   "metadata": {},
   "source": [
    "## 4.np.linalg.inv(): \n",
    "Computes Inverse of a matrix.\n",
    "\n",
    "## Syntax:\n",
    "np.linalg.inv(a)\n"
   ]
  },
  {
   "cell_type": "code",
   "execution_count": 146,
   "id": "b65c8464",
   "metadata": {},
   "outputs": [
    {
     "data": {
      "text/plain": [
       "array([[1, 2, 3],\n",
       "       [4, 5, 6],\n",
       "       [7, 8, 9]])"
      ]
     },
     "execution_count": 146,
     "metadata": {},
     "output_type": "execute_result"
    }
   ],
   "source": [
    "x1"
   ]
  },
  {
   "cell_type": "code",
   "execution_count": 147,
   "id": "4f76d9b6",
   "metadata": {},
   "outputs": [
    {
     "data": {
      "text/plain": [
       "array([[ 3.15251974e+15, -6.30503948e+15,  3.15251974e+15],\n",
       "       [-6.30503948e+15,  1.26100790e+16, -6.30503948e+15],\n",
       "       [ 3.15251974e+15, -6.30503948e+15,  3.15251974e+15]])"
      ]
     },
     "execution_count": 147,
     "metadata": {},
     "output_type": "execute_result"
    }
   ],
   "source": [
    "np.linalg.inv(x1)"
   ]
  },
  {
   "cell_type": "markdown",
   "id": "3d4c1628",
   "metadata": {},
   "source": [
    "## 5.np.linalg.det():\n",
    "Computes determinant of a matrix.\n",
    "\n",
    "## Syntax:\n",
    "np.linalg.det(a)\n"
   ]
  },
  {
   "cell_type": "code",
   "execution_count": 148,
   "id": "a70db1ce",
   "metadata": {},
   "outputs": [
    {
     "data": {
      "text/plain": [
       "array([[1, 2, 3],\n",
       "       [4, 5, 6],\n",
       "       [7, 8, 9]])"
      ]
     },
     "execution_count": 148,
     "metadata": {},
     "output_type": "execute_result"
    }
   ],
   "source": [
    "x1"
   ]
  },
  {
   "cell_type": "code",
   "execution_count": 149,
   "id": "934d6979",
   "metadata": {},
   "outputs": [
    {
     "data": {
      "text/plain": [
       "-9.51619735392994e-16"
      ]
     },
     "execution_count": 149,
     "metadata": {},
     "output_type": "execute_result"
    }
   ],
   "source": [
    "np.linalg.det(x1)"
   ]
  },
  {
   "cell_type": "markdown",
   "id": "2f3ea45d",
   "metadata": {},
   "source": [
    "# Advanced Mathematical Functions in Numpy"
   ]
  },
  {
   "cell_type": "markdown",
   "id": "3633ccac",
   "metadata": {},
   "source": [
    "## 1.np.nansum(): \n",
    "This function computes the sum of array elements over a specified axis, treating NaNs (Not a Number) as zero.\n",
    "\n",
    "## Syntax:\n",
    "np.nansum(a,axis=None,dtype=None)"
   ]
  },
  {
   "cell_type": "code",
   "execution_count": 150,
   "id": "5adcccfc",
   "metadata": {},
   "outputs": [
    {
     "data": {
      "text/plain": [
       "array([[ 1.,  2.,  3.],\n",
       "       [nan,  6., nan],\n",
       "       [ 9., nan,  8.]])"
      ]
     },
     "execution_count": 150,
     "metadata": {},
     "output_type": "execute_result"
    }
   ],
   "source": [
    "x2=np.array([[1,2,3],[np.nan,6,np.nan],[9,np.nan,8]])\n",
    "x2"
   ]
  },
  {
   "cell_type": "code",
   "execution_count": 151,
   "id": "c3333ad4",
   "metadata": {},
   "outputs": [
    {
     "data": {
      "text/plain": [
       "29.0"
      ]
     },
     "execution_count": 151,
     "metadata": {},
     "output_type": "execute_result"
    }
   ],
   "source": [
    "np.nansum(x2)"
   ]
  },
  {
   "cell_type": "code",
   "execution_count": 152,
   "id": "3ba9c0ed",
   "metadata": {},
   "outputs": [
    {
     "data": {
      "text/plain": [
       "array([10.,  8., 11.])"
      ]
     },
     "execution_count": 152,
     "metadata": {},
     "output_type": "execute_result"
    }
   ],
   "source": [
    "np.nansum(x2,axis=0)"
   ]
  },
  {
   "cell_type": "code",
   "execution_count": 153,
   "id": "cd696b68",
   "metadata": {},
   "outputs": [
    {
     "data": {
      "text/plain": [
       "array([ 6.,  6., 17.])"
      ]
     },
     "execution_count": 153,
     "metadata": {},
     "output_type": "execute_result"
    }
   ],
   "source": [
    "np.nansum(x2,axis=1)"
   ]
  },
  {
   "cell_type": "markdown",
   "id": "7803e3a2",
   "metadata": {},
   "source": [
    "## 2.np.cumsum():\n",
    "This function computes the cumulative sum of array elements along a specified axis. It returns an array containing the cumulative sum of elements up to each position in the input array.\n",
    "\n",
    "## Syntax:\n",
    "np.cumsum(a,axis=None,dtype=None)"
   ]
  },
  {
   "cell_type": "code",
   "execution_count": 154,
   "id": "ee485da9",
   "metadata": {},
   "outputs": [
    {
     "data": {
      "text/plain": [
       "array([[11, 12, 13],\n",
       "       [14, 15, 16],\n",
       "       [17, 18, 19]])"
      ]
     },
     "execution_count": 154,
     "metadata": {},
     "output_type": "execute_result"
    }
   ],
   "source": [
    "a1=np.arange(11,20).reshape(3,3)\n",
    "a1"
   ]
  },
  {
   "cell_type": "code",
   "execution_count": 155,
   "id": "1d127116",
   "metadata": {},
   "outputs": [
    {
     "data": {
      "text/plain": [
       "array([ 11,  23,  36,  50,  65,  81,  98, 116, 135], dtype=int32)"
      ]
     },
     "execution_count": 155,
     "metadata": {},
     "output_type": "execute_result"
    }
   ],
   "source": [
    "np.cumsum(a1)"
   ]
  },
  {
   "cell_type": "code",
   "execution_count": 156,
   "id": "fb96c67e",
   "metadata": {},
   "outputs": [
    {
     "data": {
      "text/plain": [
       "array([[11, 12, 13],\n",
       "       [25, 27, 29],\n",
       "       [42, 45, 48]], dtype=int32)"
      ]
     },
     "execution_count": 156,
     "metadata": {},
     "output_type": "execute_result"
    }
   ],
   "source": [
    "np.cumsum(a1,axis=0)"
   ]
  },
  {
   "cell_type": "code",
   "execution_count": 157,
   "id": "41fad0f6",
   "metadata": {},
   "outputs": [
    {
     "data": {
      "text/plain": [
       "array([[11, 23, 36],\n",
       "       [14, 29, 45],\n",
       "       [17, 35, 54]], dtype=int32)"
      ]
     },
     "execution_count": 157,
     "metadata": {},
     "output_type": "execute_result"
    }
   ],
   "source": [
    "np.cumsum(a1,axis=1)"
   ]
  },
  {
   "cell_type": "markdown",
   "id": "372b91f0",
   "metadata": {},
   "source": [
    "## 3.np.nanprod(): \n",
    "This function computes the product of array elements over a specified axis, treating NaNs (Not a Number) as one.\n",
    "\n",
    "## Syntax:\n",
    "np.nanprod(a,axis=None,dtype=None)"
   ]
  },
  {
   "cell_type": "code",
   "execution_count": 158,
   "id": "8ea669ae",
   "metadata": {},
   "outputs": [
    {
     "data": {
      "text/plain": [
       "array([[ 1.,  2.,  3.],\n",
       "       [nan,  6., nan],\n",
       "       [ 9., nan,  8.]])"
      ]
     },
     "execution_count": 158,
     "metadata": {},
     "output_type": "execute_result"
    }
   ],
   "source": [
    "x2"
   ]
  },
  {
   "cell_type": "code",
   "execution_count": 159,
   "id": "458271c5",
   "metadata": {},
   "outputs": [
    {
     "data": {
      "text/plain": [
       "2592.0"
      ]
     },
     "execution_count": 159,
     "metadata": {},
     "output_type": "execute_result"
    }
   ],
   "source": [
    "np.nanprod(x2)"
   ]
  },
  {
   "cell_type": "code",
   "execution_count": 160,
   "id": "09db088a",
   "metadata": {},
   "outputs": [
    {
     "data": {
      "text/plain": [
       "array([ 9., 12., 24.])"
      ]
     },
     "execution_count": 160,
     "metadata": {},
     "output_type": "execute_result"
    }
   ],
   "source": [
    "np.nanprod(x2,axis=0)"
   ]
  },
  {
   "cell_type": "code",
   "execution_count": 161,
   "id": "590921a9",
   "metadata": {},
   "outputs": [
    {
     "data": {
      "text/plain": [
       "array([ 6.,  6., 72.])"
      ]
     },
     "execution_count": 161,
     "metadata": {},
     "output_type": "execute_result"
    }
   ],
   "source": [
    "np.nanprod(x2,axis=1)"
   ]
  },
  {
   "cell_type": "markdown",
   "id": "827c59d1",
   "metadata": {},
   "source": [
    "## 4.np.cumprod():\n",
    "This function computes the cumulative product of array elements along a specified axis. It returns an array containing the cumulative product of elements up to each position in the input array.\n",
    "\n",
    "## Syntax:\n",
    "np.cumprod(a,axis=None,dtype=None)"
   ]
  },
  {
   "cell_type": "code",
   "execution_count": 162,
   "id": "e17ed781",
   "metadata": {},
   "outputs": [
    {
     "data": {
      "text/plain": [
       "array([[11, 12, 13],\n",
       "       [14, 15, 16],\n",
       "       [17, 18, 19]])"
      ]
     },
     "execution_count": 162,
     "metadata": {},
     "output_type": "execute_result"
    }
   ],
   "source": [
    "a1"
   ]
  },
  {
   "cell_type": "code",
   "execution_count": 163,
   "id": "3d9b8e3d",
   "metadata": {},
   "outputs": [
    {
     "data": {
      "text/plain": [
       "array([        11,        132,       1716,      24024,     360360,\n",
       "          5765760,   98017920, 1764322560, -837609728], dtype=int32)"
      ]
     },
     "execution_count": 163,
     "metadata": {},
     "output_type": "execute_result"
    }
   ],
   "source": [
    "np.cumprod(a1)"
   ]
  },
  {
   "cell_type": "code",
   "execution_count": 164,
   "id": "a9f9580e",
   "metadata": {},
   "outputs": [
    {
     "data": {
      "text/plain": [
       "array([[  11,   12,   13],\n",
       "       [ 154,  180,  208],\n",
       "       [2618, 3240, 3952]], dtype=int32)"
      ]
     },
     "execution_count": 164,
     "metadata": {},
     "output_type": "execute_result"
    }
   ],
   "source": [
    "np.cumprod(a1,axis=0)"
   ]
  },
  {
   "cell_type": "code",
   "execution_count": 165,
   "id": "05075fa9",
   "metadata": {},
   "outputs": [
    {
     "data": {
      "text/plain": [
       "array([[  11,  132, 1716],\n",
       "       [  14,  210, 3360],\n",
       "       [  17,  306, 5814]], dtype=int32)"
      ]
     },
     "execution_count": 165,
     "metadata": {},
     "output_type": "execute_result"
    }
   ],
   "source": [
    "np.cumprod(a1,axis=1)"
   ]
  },
  {
   "cell_type": "markdown",
   "id": "686f84cb",
   "metadata": {},
   "source": [
    "## 5.np.isnan():\n",
    "Returns True if there ara nan values in the array.\n",
    "\n",
    "## Syntax:\n",
    "np.isnan(a1)"
   ]
  },
  {
   "cell_type": "code",
   "execution_count": 166,
   "id": "9659fbdb",
   "metadata": {},
   "outputs": [
    {
     "data": {
      "text/plain": [
       "array([[ 1.,  2.,  3.],\n",
       "       [nan,  6., nan],\n",
       "       [ 9., nan,  8.]])"
      ]
     },
     "execution_count": 166,
     "metadata": {},
     "output_type": "execute_result"
    }
   ],
   "source": [
    "x2"
   ]
  },
  {
   "cell_type": "code",
   "execution_count": 167,
   "id": "f884ed14",
   "metadata": {},
   "outputs": [
    {
     "data": {
      "text/plain": [
       "array([[False, False, False],\n",
       "       [ True, False,  True],\n",
       "       [False,  True, False]])"
      ]
     },
     "execution_count": 167,
     "metadata": {},
     "output_type": "execute_result"
    }
   ],
   "source": [
    "np.isnan(x2)"
   ]
  },
  {
   "cell_type": "code",
   "execution_count": 168,
   "id": "a0cfe6ab",
   "metadata": {},
   "outputs": [
    {
     "data": {
      "text/plain": [
       "array([nan, nan, nan])"
      ]
     },
     "execution_count": 168,
     "metadata": {},
     "output_type": "execute_result"
    }
   ],
   "source": [
    "x2[np.isnan(x2)]"
   ]
  },
  {
   "cell_type": "markdown",
   "id": "266cd261",
   "metadata": {},
   "source": [
    "## 6.np.isinf():\n",
    "Returns True if there are inf values in the array.\n",
    "\n",
    "## Syntax:\n",
    "np.isinf(a1)"
   ]
  },
  {
   "cell_type": "code",
   "execution_count": 169,
   "id": "3cba5738",
   "metadata": {},
   "outputs": [
    {
     "data": {
      "text/plain": [
       "array([[ 1., inf],\n",
       "       [ 3.,  5.],\n",
       "       [ 6.,  8.]])"
      ]
     },
     "execution_count": 169,
     "metadata": {},
     "output_type": "execute_result"
    }
   ],
   "source": [
    "x3=np.array([1,np.inf,3,5,6,8]).reshape(3,2)\n",
    "x3"
   ]
  },
  {
   "cell_type": "code",
   "execution_count": 170,
   "id": "5a4ba909",
   "metadata": {},
   "outputs": [
    {
     "data": {
      "text/plain": [
       "array([[False,  True],\n",
       "       [False, False],\n",
       "       [False, False]])"
      ]
     },
     "execution_count": 170,
     "metadata": {},
     "output_type": "execute_result"
    }
   ],
   "source": [
    "np.isinf(x3)"
   ]
  },
  {
   "cell_type": "code",
   "execution_count": 171,
   "id": "059e3381",
   "metadata": {},
   "outputs": [
    {
     "data": {
      "text/plain": [
       "array([inf])"
      ]
     },
     "execution_count": 171,
     "metadata": {},
     "output_type": "execute_result"
    }
   ],
   "source": [
    "x3[np.isinf(x3)]"
   ]
  },
  {
   "cell_type": "markdown",
   "id": "c6a2dfe2",
   "metadata": {},
   "source": [
    "## 7.np.where():\n",
    "np.where() is commonly used in data manipulation tasks, such as filtering, masking, and replacing values in arrays based on specific conditions.\n",
    "\n",
    "## Syntax:\n",
    "np.where(condition,[x,y])"
   ]
  },
  {
   "cell_type": "code",
   "execution_count": 172,
   "id": "9e1d3898",
   "metadata": {},
   "outputs": [
    {
     "data": {
      "text/plain": [
       "array([[11, 12, 13],\n",
       "       [14, 15, 16],\n",
       "       [17, 18, 19]])"
      ]
     },
     "execution_count": 172,
     "metadata": {},
     "output_type": "execute_result"
    }
   ],
   "source": [
    "a1"
   ]
  },
  {
   "cell_type": "code",
   "execution_count": 173,
   "id": "5cd0a13e",
   "metadata": {},
   "outputs": [
    {
     "data": {
      "text/plain": [
       "array([['0', '0', '0'],\n",
       "       ['0', '0', 'Hello'],\n",
       "       ['Hello', 'Hello', 'Hello']], dtype='<U11')"
      ]
     },
     "execution_count": 173,
     "metadata": {},
     "output_type": "execute_result"
    }
   ],
   "source": [
    "np.where(a1>15,\"Hello\",0)"
   ]
  },
  {
   "cell_type": "markdown",
   "id": "f1887843",
   "metadata": {},
   "source": [
    "## 8.np.apply_along_axis() :\n",
    "np.apply_along_axis() allows you to apply a function along the specified axis of a NumPy array.\n",
    "\n",
    "## Syntax:\n",
    "np.apply_along_axis(funcid,axis,arr)"
   ]
  },
  {
   "cell_type": "code",
   "execution_count": 192,
   "id": "789c4c57",
   "metadata": {},
   "outputs": [
    {
     "data": {
      "text/plain": [
       "array([[11, 12, 13],\n",
       "       [14, 15, 16],\n",
       "       [17, 18, 19]])"
      ]
     },
     "execution_count": 192,
     "metadata": {},
     "output_type": "execute_result"
    }
   ],
   "source": [
    "a1"
   ]
  },
  {
   "cell_type": "code",
   "execution_count": 198,
   "id": "2f9a7e10",
   "metadata": {},
   "outputs": [
    {
     "data": {
      "text/plain": [
       "array([[121, 144, 169],\n",
       "       [196, 225, 256],\n",
       "       [289, 324, 361]], dtype=int32)"
      ]
     },
     "execution_count": 198,
     "metadata": {},
     "output_type": "execute_result"
    }
   ],
   "source": [
    "np.apply_along_axis(lambda x:x**2,axis=0,arr=a1)"
   ]
  },
  {
   "cell_type": "code",
   "execution_count": 200,
   "id": "4a38d167",
   "metadata": {},
   "outputs": [
    {
     "data": {
      "text/plain": [
       "array([13, 16, 19])"
      ]
     },
     "execution_count": 200,
     "metadata": {},
     "output_type": "execute_result"
    }
   ],
   "source": [
    "np.apply_along_axis(max,axis=1,arr=a1)"
   ]
  },
  {
   "cell_type": "markdown",
   "id": "a52463e1",
   "metadata": {},
   "source": [
    "# String Functions\n",
    "\n",
    "\n",
    "NumPy provides functions for working with arrays of strings through the numpy.char module. Here are some commonly used string functions in NumPy:\n",
    "\n"
   ]
  },
  {
   "cell_type": "markdown",
   "id": "d2446906",
   "metadata": {},
   "source": [
    "## 1.np.char.upper():\n",
    "Converts all characters in each string to uppercase.\n",
    "\n",
    "## Syntax:\n",
    "np.char.upper(a)"
   ]
  },
  {
   "cell_type": "code",
   "execution_count": 174,
   "id": "a3adf810",
   "metadata": {},
   "outputs": [
    {
     "data": {
      "text/plain": [
       "array(['raghu', 'Rohan', 'RoHit', 'Rahul'], dtype='<U5')"
      ]
     },
     "execution_count": 174,
     "metadata": {},
     "output_type": "execute_result"
    }
   ],
   "source": [
    "s1=np.array([\"raghu\",\"Rohan\",\"RoHit\",\"Rahul\"])\n",
    "s1"
   ]
  },
  {
   "cell_type": "code",
   "execution_count": 175,
   "id": "6e986180",
   "metadata": {},
   "outputs": [
    {
     "data": {
      "text/plain": [
       "array(['RAGHU', 'ROHAN', 'ROHIT', 'RAHUL'], dtype='<U5')"
      ]
     },
     "execution_count": 175,
     "metadata": {},
     "output_type": "execute_result"
    }
   ],
   "source": [
    "np.char.upper(s1)"
   ]
  },
  {
   "cell_type": "markdown",
   "id": "69ac3ad3",
   "metadata": {},
   "source": [
    "## 2.np.char.lower(): \n",
    "Converts all characters in each string to lowercase.\n",
    "\n",
    "## Syntax:\n",
    "np.char.lower(a)"
   ]
  },
  {
   "cell_type": "code",
   "execution_count": 176,
   "id": "b6feb5c1",
   "metadata": {},
   "outputs": [
    {
     "data": {
      "text/plain": [
       "array(['raghu', 'Rohan', 'RoHit', 'Rahul'], dtype='<U5')"
      ]
     },
     "execution_count": 176,
     "metadata": {},
     "output_type": "execute_result"
    }
   ],
   "source": [
    "s1"
   ]
  },
  {
   "cell_type": "code",
   "execution_count": 177,
   "id": "4cca03c2",
   "metadata": {},
   "outputs": [
    {
     "data": {
      "text/plain": [
       "array(['raghu', 'rohan', 'rohit', 'rahul'], dtype='<U5')"
      ]
     },
     "execution_count": 177,
     "metadata": {},
     "output_type": "execute_result"
    }
   ],
   "source": [
    "np.char.lower(s1)"
   ]
  },
  {
   "cell_type": "markdown",
   "id": "7003a40a",
   "metadata": {},
   "source": [
    "## 3.np.char.title():\n",
    "Converts the first character of each word to uppercase and all other characters to lowercase.\n",
    "\n",
    "## Syntax:\n",
    "np.char.title(a)"
   ]
  },
  {
   "cell_type": "code",
   "execution_count": 178,
   "id": "0991a200",
   "metadata": {},
   "outputs": [
    {
     "data": {
      "text/plain": [
       "array(['raghu', 'Rohan', 'RoHit', 'Rahul'], dtype='<U5')"
      ]
     },
     "execution_count": 178,
     "metadata": {},
     "output_type": "execute_result"
    }
   ],
   "source": [
    "s1"
   ]
  },
  {
   "cell_type": "code",
   "execution_count": 179,
   "id": "e1a9c4da",
   "metadata": {},
   "outputs": [
    {
     "data": {
      "text/plain": [
       "array(['Raghu', 'Rohan', 'Rohit', 'Rahul'], dtype='<U5')"
      ]
     },
     "execution_count": 179,
     "metadata": {},
     "output_type": "execute_result"
    }
   ],
   "source": [
    "np.char.title(s1)"
   ]
  },
  {
   "cell_type": "markdown",
   "id": "a76b68ae",
   "metadata": {},
   "source": [
    "## 4.np.char.capitalize():\n",
    "Converts the first character of each string to uppercase and all other characters to lowercase.\n",
    "\n",
    "## Syntax:\n",
    "np.char.capitalize(a)"
   ]
  },
  {
   "cell_type": "code",
   "execution_count": 180,
   "id": "c4fef852",
   "metadata": {},
   "outputs": [
    {
     "data": {
      "text/plain": [
       "array(['raghu', 'Rohan', 'RoHit', 'Rahul'], dtype='<U5')"
      ]
     },
     "execution_count": 180,
     "metadata": {},
     "output_type": "execute_result"
    }
   ],
   "source": [
    "s1"
   ]
  },
  {
   "cell_type": "code",
   "execution_count": 181,
   "id": "cebd3b9f",
   "metadata": {},
   "outputs": [
    {
     "data": {
      "text/plain": [
       "array(['Raghu', 'Rohan', 'Rohit', 'Rahul'], dtype='<U5')"
      ]
     },
     "execution_count": 181,
     "metadata": {},
     "output_type": "execute_result"
    }
   ],
   "source": [
    "np.char.capitalize(s1)"
   ]
  },
  {
   "cell_type": "markdown",
   "id": "427fddf4",
   "metadata": {},
   "source": [
    "## 5.np.char.split(): \n",
    "Splits each string into a list of substrings based on a delimiter\n",
    "\n",
    "## Syntax:\n",
    "np.char.split(a,sep=None)"
   ]
  },
  {
   "cell_type": "code",
   "execution_count": 182,
   "id": "fa7a6f18",
   "metadata": {},
   "outputs": [
    {
     "data": {
      "text/plain": [
       "array([' Python ', ' SQL ', ' ML ', ' DL '], dtype='<U8')"
      ]
     },
     "execution_count": 182,
     "metadata": {},
     "output_type": "execute_result"
    }
   ],
   "source": [
    "s2=np.array([\" Python \",\" SQL \",\" ML \",\" DL \"])\n",
    "s2"
   ]
  },
  {
   "cell_type": "code",
   "execution_count": 183,
   "id": "f693aa87",
   "metadata": {},
   "outputs": [
    {
     "data": {
      "text/plain": [
       "array([list(['', 'Python', '']), list(['', 'SQL', '']),\n",
       "       list(['', 'ML', '']), list(['', 'DL', ''])], dtype=object)"
      ]
     },
     "execution_count": 183,
     "metadata": {},
     "output_type": "execute_result"
    }
   ],
   "source": [
    "np.char.split(s2,sep=\" \")"
   ]
  },
  {
   "cell_type": "markdown",
   "id": "40e1ea0c",
   "metadata": {},
   "source": [
    "## 6.np.char.strip(): \n",
    "Removes leading and trailing whitespace from each string.\n",
    "\n",
    "## Syntax:\n",
    "np.char.strip(a)"
   ]
  },
  {
   "cell_type": "code",
   "execution_count": 184,
   "id": "2b518682",
   "metadata": {},
   "outputs": [
    {
     "data": {
      "text/plain": [
       "array([' Python ', ' SQL ', ' ML ', ' DL '], dtype='<U8')"
      ]
     },
     "execution_count": 184,
     "metadata": {},
     "output_type": "execute_result"
    }
   ],
   "source": [
    "s2"
   ]
  },
  {
   "cell_type": "code",
   "execution_count": 185,
   "id": "cdde5f5d",
   "metadata": {},
   "outputs": [
    {
     "data": {
      "text/plain": [
       "array(['Python', 'SQL', 'ML', 'DL'], dtype='<U8')"
      ]
     },
     "execution_count": 185,
     "metadata": {},
     "output_type": "execute_result"
    }
   ],
   "source": [
    "np.char.strip(s2)"
   ]
  },
  {
   "cell_type": "code",
   "execution_count": 186,
   "id": "880aa395",
   "metadata": {},
   "outputs": [
    {
     "data": {
      "text/plain": [
       "array(['Python ', 'SQL ', 'ML ', 'DL '], dtype='<U8')"
      ]
     },
     "execution_count": 186,
     "metadata": {},
     "output_type": "execute_result"
    }
   ],
   "source": [
    "np.char.lstrip(s2)"
   ]
  },
  {
   "cell_type": "code",
   "execution_count": 187,
   "id": "7218df96",
   "metadata": {},
   "outputs": [
    {
     "data": {
      "text/plain": [
       "array([' Python', ' SQL', ' ML', ' DL'], dtype='<U8')"
      ]
     },
     "execution_count": 187,
     "metadata": {},
     "output_type": "execute_result"
    }
   ],
   "source": [
    "np.char.rstrip(s2)"
   ]
  },
  {
   "cell_type": "markdown",
   "id": "546cfc51",
   "metadata": {},
   "source": [
    "## 7.np.char.join():\n",
    "Joins elements of a list of strings with a specified delimiter.\n",
    "\n",
    "## Syntax:\n",
    "np.char.join(sep,seq)"
   ]
  },
  {
   "cell_type": "code",
   "execution_count": 188,
   "id": "68167d06",
   "metadata": {},
   "outputs": [
    {
     "data": {
      "text/plain": [
       "array([' Python ', ' SQL ', ' ML ', ' DL '], dtype='<U8')"
      ]
     },
     "execution_count": 188,
     "metadata": {},
     "output_type": "execute_result"
    }
   ],
   "source": [
    "s2"
   ]
  },
  {
   "cell_type": "code",
   "execution_count": 189,
   "id": "1c6a4fc7",
   "metadata": {},
   "outputs": [
    {
     "data": {
      "text/plain": [
       "array([' _P_y_t_h_o_n_ ', ' _S_Q_L_ ', ' _M_L_ ', ' _D_L_ '], dtype='<U15')"
      ]
     },
     "execution_count": 189,
     "metadata": {},
     "output_type": "execute_result"
    }
   ],
   "source": [
    "np.char.join(\"_\",s2)"
   ]
  },
  {
   "cell_type": "markdown",
   "id": "6956f353",
   "metadata": {},
   "source": [
    "# BroadCasting of Arrays\n",
    "Broadcasting is a powerful mechanism in NumPy that allows arrays of different shapes to be combined together in arithmetic operations. When operating on arrays, NumPy compares their shapes element-wise. It starts with the trailing (i.e., rightmost) dimensions and works its way leftward, broadcasting dimensions where necessary to make the shapes compatible for the operation.\n",
    "\n",
    "The broadcasting rule in NumPy follows these steps:\n",
    "\n",
    "- If the arrays do not have the same number of dimensions, then the shape of the array with fewer dimensions is padded with ones   on its leading (left) side.\n",
    "- The sizes of the corresponding dimensions of the two arrays are compared. Two dimensions are compatible if they are equal or     if one of them is 1.\n",
    "- If the sizes of the corresponding dimensions are different and neither is equal to 1, an error is raised."
   ]
  },
  {
   "cell_type": "code",
   "execution_count": 190,
   "id": "15080736",
   "metadata": {},
   "outputs": [
    {
     "data": {
      "text/plain": [
       "array([[ 8, 10, 12],\n",
       "       [11, 13, 15]])"
      ]
     },
     "execution_count": 190,
     "metadata": {},
     "output_type": "execute_result"
    }
   ],
   "source": [
    "arr1=np.array([[1,2,3],[4,5,6]])\n",
    "arr2=np.array([[7,8,9]])\n",
    "arr1+arr2"
   ]
  },
  {
   "cell_type": "code",
   "execution_count": 191,
   "id": "e3cb84a4",
   "metadata": {},
   "outputs": [
    {
     "data": {
      "text/plain": [
       "array([6, 7, 8])"
      ]
     },
     "execution_count": 191,
     "metadata": {},
     "output_type": "execute_result"
    }
   ],
   "source": [
    "arr1 = np.array([1, 2, 3])\n",
    "scalar = 5\n",
    "result1 = arr1 + scalar\n",
    "result1  "
   ]
  }
 ],
 "metadata": {
  "kernelspec": {
   "display_name": "Python 3 (ipykernel)",
   "language": "python",
   "name": "python3"
  },
  "language_info": {
   "codemirror_mode": {
    "name": "ipython",
    "version": 3
   },
   "file_extension": ".py",
   "mimetype": "text/x-python",
   "name": "python",
   "nbconvert_exporter": "python",
   "pygments_lexer": "ipython3",
   "version": "3.9.13"
  }
 },
 "nbformat": 4,
 "nbformat_minor": 5
}
