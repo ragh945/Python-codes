{
 "cells": [
  {
   "cell_type": "code",
   "execution_count": 7,
   "id": "351c508d",
   "metadata": {},
   "outputs": [
    {
     "data": {
      "text/plain": [
       "[1, 2, 3, 4, 7, 8, 9]"
      ]
     },
     "execution_count": 7,
     "metadata": {},
     "output_type": "execute_result"
    }
   ],
   "source": [
    "#1. Given a list of numbers, write a python program that returns a new list which Has all  duplicate elements removed. And is sorted in an increasing order.\n",
    "list1=[2,1,3,4,2,3,3,2,7,9,8,7]\n",
    "s1=set(list1)\n",
    "s1\n",
    "list2=list(s1)\n",
    "list2.sort()\n",
    "list2"
   ]
  },
  {
   "cell_type": "code",
   "execution_count": 9,
   "id": "5f7aff23",
   "metadata": {},
   "outputs": [
    {
     "name": "stdout",
     "output_type": "stream",
     "text": [
      "1 Ironman\n",
      "2 CaptainAmerica\n",
      "3 Thor\n",
      "4 Hulk\n",
      "5 Blackpanther\n",
      "6 spiderman\n"
     ]
    }
   ],
   "source": [
    "#2.Write a Python program where you will iterate over both keys and values in  dictionaries\n",
    "dict1={1:\"Ironman\",2:\"CaptainAmerica\",3:\"Thor\",4:\"Hulk\",5:\"Blackpanther\",6:\"spiderman\"}\n",
    "for keys,values in dict1.items():\n",
    "    print(keys,values)"
   ]
  },
  {
   "cell_type": "code",
   "execution_count": 32,
   "id": "96264279",
   "metadata": {},
   "outputs": [
    {
     "name": "stdout",
     "output_type": "stream",
     "text": [
      "['Gephi', 'Manoj', 'Tarun']\n"
     ]
    }
   ],
   "source": [
    "#3.Write a Python program that takes a dictionary of student names and returns a list of \n",
    "#student names in alphabetical order\n",
    "#Ex:\n",
    "#Input: \n",
    "#{“Student 1”: \"Tarun\", \"Student 2”: \"Manoj\", \"Student 3”: \"Gephi”}\n",
    "#Output:\n",
    " #[“Gephi”,” \n",
    "#Manoj”,” Tarun”]\n",
    "dict1={\"Student 1\": \"Tarun\",\"Student 2\":\"Manoj\",\"Student 3\":\"Gephi\"}\n",
    "list1=[]\n",
    "for keys,values in dict1.items():\n",
    "    list1.append(values)\n",
    "    list1.sort()\n",
    "print(list1)"
   ]
  },
  {
   "cell_type": "code",
   "execution_count": 45,
   "id": "9f96a12d",
   "metadata": {},
   "outputs": [
    {
     "name": "stdout",
     "output_type": "stream",
     "text": [
      "['False', 'True', 'False', 'False', 'True']\n"
     ]
    }
   ],
   "source": [
    "#4.Write a Python which returns a new list of Booleans, from a given number. Iterating \n",
    "#through the number one digit at a time, append True if the digit is 1 and False if it is 0.\n",
    "#x:\n",
    "#Input: “01001”\n",
    "#Output: [“False”, “True”, “False”,” False”,” True”]\n",
    "x=\"01001\"\n",
    "y=[]\n",
    "for i in x:\n",
    "    if i==\"1\":\n",
    "        y.append(\"True\")\n",
    "    elif i==\"0\":\n",
    "        y.append(\"False\")\n",
    "print(y)"
   ]
  },
  {
   "cell_type": "code",
   "execution_count": 4,
   "id": "891f200c",
   "metadata": {},
   "outputs": [
    {
     "name": "stdout",
     "output_type": "stream",
     "text": [
      "Enter the string : my name is ame\n",
      "{'e': 2, 'i': 1, 'y': 1, 'a': 2, ' ': 3, 'm': 3, 'n': 1, 's': 1}\n"
     ]
    }
   ],
   "source": [
    "#5.Write a Python program where you will return a dictionary where the keys will be the character and the values will be the occurrence of the character in the string, and it \n",
    "#should for any string inputs (dynamic)\n",
    "#Ex:\n",
    "#Input: “my name is ame”\n",
    "#Output: {“m”:3,” y”:1,” n”:1,” a”:2,” e”:2,” i”:1,” s”:1}\n",
    "x=input(\"Enter the string : \")\n",
    "b=set(x)\n",
    "c=list(b)\n",
    "dict1=dict()\n",
    "for i in c:\n",
    "    dict1.update({i:x.count(i)})\n",
    "print(dict1)\n"
   ]
  },
  {
   "cell_type": "code",
   "execution_count": 13,
   "id": "1a4bbe12",
   "metadata": {},
   "outputs": [
    {
     "data": {
      "text/plain": [
       "'Ackes'"
      ]
     },
     "execution_count": 13,
     "metadata": {},
     "output_type": "execute_result"
    }
   ],
   "source": [
    "#6.6. Given a dictionary containing the names and ages of a group of people, return the  name of the oldest person\n",
    "#Ex:\n",
    "#Input: {\"Tmma\": 41, \"Ackes\": 45, \"myna\": 15, \"Benthon\": 29}\n",
    "#Output: “Ackes\n",
    "dict1={\"Tmma\": 41, \"Ackes\": 45, \"myna\": 15, \"Benthon\": 29}\n",
    "s1=max(dict1,key=lambda x:dict1[x])\n",
    "s1   "
   ]
  },
  {
   "cell_type": "code",
   "execution_count": 19,
   "id": "fd5e9f83",
   "metadata": {},
   "outputs": [
    {
     "name": "stdout",
     "output_type": "stream",
     "text": [
      "Ackes\n"
     ]
    }
   ],
   "source": [
    "dict1={\"Tmma\": 41, \"Ackes\": 45, \"myna\": 15, \"Benthon\": 29}\n",
    "b=max(dict1.values())\n",
    "for i in dict1:\n",
    "    if dict1[i]==b:\n",
    "        print(i)"
   ]
  },
  {
   "cell_type": "code",
   "execution_count": 20,
   "id": "c6cba1a6",
   "metadata": {},
   "outputs": [
    {
     "name": "stdout",
     "output_type": "stream",
     "text": [
      "enter the person1rock\n",
      "enter the person2paper\n",
      "person2 wins\n"
     ]
    }
   ],
   "source": [
    "#7. Write a Python program to create a Rock, Paper, Scissor game, use two inputs for two  players:\n",
    "#Conditions: -Rock beats Scissors, Scissors beats Paper, Paper beats Rock\n",
    "P1=input(\"enter the person1\")\n",
    "P2=input('enter the person2')\n",
    "if P1==\"rock\":\n",
    "    if P2==\"rock\":\n",
    "        print(\"match is tie\")\n",
    "    elif P2==\"paper\":\n",
    "        print(\"person2 wins\")\n",
    "    elif P2==\"scissor\":\n",
    "        print(\"person1 wins\")\n",
    "elif P1==\"paper\":\n",
    "    if P2==\"paper\":\n",
    "        print(\"match is tie\")\n",
    "    elif P2==\"scissor\":\n",
    "        print(\"person2 wins\")\n",
    "    elif P2==\"rock\":\n",
    "        print(\"person1 wins\")\n",
    "elif P1==\"scissor\":\n",
    "    if P2==\"scissor\":\n",
    "        print(\"match is tie\")\n",
    "    elif P2==\"rock\":\n",
    "        print(\"person2 wins\")\n",
    "    elif P2==\"paper\":\n",
    "        print(\"person1 wins\")\n",
    "else:\n",
    "    print('Invalid input')"
   ]
  },
  {
   "cell_type": "code",
   "execution_count": 23,
   "id": "62b6d905",
   "metadata": {},
   "outputs": [
    {
     "name": "stdout",
     "output_type": "stream",
     "text": [
      "['water bottles', 'chips']\n"
     ]
    }
   ],
   "source": [
    "#8. Create a program that returns a list of items that you can afford in the store with the money you have in your wallet. Create a dictionary with items as key and price as \n",
    "#values\n",
    "#Ex:\n",
    "#Input: \n",
    "#{“water bottles”: “20”,” chips”:10,” Iphone”;49000“,” towel”:90,” pens”:58,” cake”;400} Your wallet balance: -50\n",
    "#Output: [“water bottles”, “chips”]\n",
    "dict1={\"water bottles\":20,\"chips\":10,\"Iphone\":49000,\"towel\":90,\"pens\":58,\"cake\":400}\n",
    "wallet_blnce=50\n",
    "d1=[]\n",
    "for i in dict1:\n",
    "    if dict1[i]<wallet_blnce:\n",
    "        d1.append(i)\n",
    "print(d1)"
   ]
  },
  {
   "cell_type": "code",
   "execution_count": 25,
   "id": "af0c94a3",
   "metadata": {},
   "outputs": [
    {
     "data": {
      "text/plain": [
       "{1, 2, 3, 4, 5, 6, 7, 8, 9, 10}"
      ]
     },
     "execution_count": 25,
     "metadata": {},
     "output_type": "execute_result"
    }
   ],
   "source": [
    "#9.Write a Python program to create a union of sets\n",
    "s1={1,2,3,4,5,6}\n",
    "s2={7,8,9,10}\n",
    "var1=s1.union(s2)\n",
    "var1"
   ]
  },
  {
   "cell_type": "code",
   "execution_count": 29,
   "id": "36c0382b",
   "metadata": {},
   "outputs": [
    {
     "name": "stdout",
     "output_type": "stream",
     "text": [
      "{1, 2, 3, 4, 5, 6, 7, 8, 9, 10, 11, 12, 13, 14, 15, 100, 101}\n"
     ]
    }
   ],
   "source": [
    "s1={1,2,3,4,5}\n",
    "s2={6,7,8,9}\n",
    "s3={10,11,12,13,14,15}\n",
    "s4={100,101}\n",
    "print(s1.union(s2).union(s3).union(s4))"
   ]
  },
  {
   "cell_type": "code",
   "execution_count": 11,
   "id": "893adad2",
   "metadata": {},
   "outputs": [
    {
     "name": "stdout",
     "output_type": "stream",
     "text": [
      "enter the number4\n",
      "the value is prsesnt\n"
     ]
    }
   ],
   "source": [
    "#10.Write a Python program to check if a given value is present in a set or not (Dynamic)\n",
    "s1={1,2,3,4}\n",
    "value=int(input(\"enter the number\"))\n",
    "for i in s1:\n",
    "    if i==value:\n",
    "        print(\"the value is prsesnt\")"
   ]
  },
  {
   "cell_type": "code",
   "execution_count": 28,
   "id": "a306ec50",
   "metadata": {},
   "outputs": [
    {
     "name": "stdout",
     "output_type": "stream",
     "text": [
      "{'cat': 3, 'dog': 5, 'mouse': 3}\n"
     ]
    }
   ],
   "source": [
    "#11.Write a Python program to find the occurrences of 3 most common words in a given text. And make it as a dictionaries\n",
    "#Ex:\n",
    "#Input:\n",
    "#” Cat dog dog cat horse dog dog mouse horse dog mouse tiger lion tiger cat mouse snail”\n",
    "s1=\"cat dog dog cat horse dog dog mouse horse dog mouse tiger lion tiger cat mouse snail\"\n",
    "s2=s1.split()\n",
    "s2\n",
    "s3=[]\n",
    "dict1={}\n",
    "for i in s2:\n",
    "    if s2.count(i)>2:\n",
    "        if i in dict1:\n",
    "            dict1[i]+=1\n",
    "        else:\n",
    "            dict1[i]=1\n",
    "print(dict1)"
   ]
  },
  {
   "cell_type": "code",
   "execution_count": 31,
   "id": "ebfa4ec0",
   "metadata": {},
   "outputs": [
    {
     "name": "stdout",
     "output_type": "stream",
     "text": [
      "{'Python': 80, 'Ststistics': 75, 'SQl': 85, 'ML': 60, 'DL': 55}\n"
     ]
    }
   ],
   "source": [
    "#12.12. Write a Python program that accepts name of given subject and mark, and make subjects as keys in dictionaries and marks as values and print the final dictionary with subjects and marks\n",
    "list1=[\"Python\",\"Ststistics\",\"SQl\",\"ML\",\"DL\"]\n",
    "list2=[80,75,85,60,55]\n",
    "dict1=dict()\n",
    "for i in range(len(list1)):\n",
    "    dict1.update({list1[i]:list2[i]})\n",
    "print(dict1)"
   ]
  },
  {
   "cell_type": "code",
   "execution_count": 32,
   "id": "f8b41334",
   "metadata": {},
   "outputs": [
    {
     "name": "stdout",
     "output_type": "stream",
     "text": [
      "{'Python': 80, 'Ststistics': 75, 'SQl': 85, 'ML': 60, 'DL': 55}\n"
     ]
    }
   ],
   "source": [
    "#Method-2 using Zip\n",
    "list1=[\"Python\",\"Ststistics\",\"SQl\",\"ML\",\"DL\"]\n",
    "list2=[80,75,85,60,55]\n",
    "dict1=dict(zip(list1,list2))\n",
    "print(dict1)\n"
   ]
  },
  {
   "cell_type": "code",
   "execution_count": 34,
   "id": "caaf4c9b",
   "metadata": {},
   "outputs": [
    {
     "data": {
      "text/plain": [
       "{'Python': 80, 'Ststistics': 75, 'SQl': 85, 'ML': 60, 'DL': 55}"
      ]
     },
     "execution_count": 34,
     "metadata": {},
     "output_type": "execute_result"
    }
   ],
   "source": [
    "#method_3\n",
    "def f1(x,y):\n",
    "    d=dict(zip(x,y))\n",
    "    return d\n",
    "f1([\"Python\",\"Ststistics\",\"SQl\",\"ML\",\"DL\"],[80,75,85,60,55])"
   ]
  }
 ],
 "metadata": {
  "kernelspec": {
   "display_name": "Python 3 (ipykernel)",
   "language": "python",
   "name": "python3"
  },
  "language_info": {
   "codemirror_mode": {
    "name": "ipython",
    "version": 3
   },
   "file_extension": ".py",
   "mimetype": "text/x-python",
   "name": "python",
   "nbconvert_exporter": "python",
   "pygments_lexer": "ipython3",
   "version": "3.9.13"
  }
 },
 "nbformat": 4,
 "nbformat_minor": 5
}
