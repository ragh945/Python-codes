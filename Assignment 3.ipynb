{
 "cells": [
  {
   "cell_type": "code",
   "execution_count": 2,
   "id": "41276873",
   "metadata": {},
   "outputs": [
    {
     "name": "stdout",
     "output_type": "stream",
     "text": [
      "0\n",
      "1\n",
      "2\n",
      "4\n",
      "5\n"
     ]
    }
   ],
   "source": [
    "#1.Write a Python program that prints all the numbers from 0 to 6 except 3 and 6\n",
    "for i in range(7):\n",
    "    if i==3 or i==6:\n",
    "        continue\n",
    "    else:\n",
    "        print(i)"
   ]
  },
  {
   "cell_type": "code",
   "execution_count": 4,
   "id": "14f64b9c",
   "metadata": {},
   "outputs": [
    {
     "name": "stdout",
     "output_type": "stream",
     "text": [
      "enter the number5\n",
      "15\n"
     ]
    }
   ],
   "source": [
    "#2.Write a program to accept a number from a user and calculate the sum of all numbers from 1 to a given number\n",
    "num=int(input(\"enter the number\"))\n",
    "sum=0\n",
    "for i in range(1,num+1):\n",
    "    sum+=i\n",
    "print(sum)\n",
    "    \n"
   ]
  },
  {
   "cell_type": "code",
   "execution_count": 6,
   "id": "ee8f22e8",
   "metadata": {},
   "outputs": [
    {
     "name": "stdout",
     "output_type": "stream",
     "text": [
      "enter the number5\n",
      "5*1=5\n",
      "5*2=10\n",
      "5*3=15\n",
      "5*4=20\n",
      "5*5=25\n",
      "5*6=30\n",
      "5*7=35\n",
      "5*8=40\n",
      "5*9=45\n",
      "5*10=50\n"
     ]
    }
   ],
   "source": [
    "#3.Write a program to print multiplication table of a given number(input)\n",
    "num=int(input('enter the number'))\n",
    "for i in range(1,11):\n",
    "    c=num*i\n",
    "    print(\"{}*{}={}\".format(num,i,c))"
   ]
  },
  {
   "cell_type": "code",
   "execution_count": 1,
   "id": "0412c5c9",
   "metadata": {},
   "outputs": [
    {
     "name": "stdout",
     "output_type": "stream",
     "text": [
      "enter the number75869\n",
      "The number of didgits : 5\n"
     ]
    }
   ],
   "source": [
    "#4.Write a program to count the total number of digits in a number using a while loop.\n",
    "var=int(input(\"enter the number\"))\n",
    "c=0\n",
    "while var>0:\n",
    "    c+=1\n",
    "    var//=10\n",
    "print(\"The number of didgits :\",c)\n",
    "    "
   ]
  },
  {
   "cell_type": "code",
   "execution_count": 4,
   "id": "54b1fcbd",
   "metadata": {},
   "outputs": [
    {
     "name": "stdout",
     "output_type": "stream",
     "text": [
      "55\n",
      "enter the number : 67\n",
      "guess untill u succeed\n"
     ]
    }
   ],
   "source": [
    "#5. Write a Python program to guess a number between 1 to\n",
    "#Example:\n",
    "#User is prompted to enter a guess. If the user guesses wrong\n",
    "#then the prompt appears again until the guess is correct, on\n",
    "#successful guess, user will get a \"Well guessed!\" message,\n",
    "#and the program will exit.\n",
    "import random\n",
    "r=random.randrange(1,100)\n",
    "print(r)\n",
    "guess=int(input(\"enter the number : \"))\n",
    "if r==guess:\n",
    "    print(\"Well guessed!\")\n",
    "else:\n",
    "    print(\"guess untill u succeed\")\n",
    "        \n",
    "\n"
   ]
  },
  {
   "cell_type": "code",
   "execution_count": 5,
   "id": "7bb4d605",
   "metadata": {},
   "outputs": [
    {
     "name": "stdout",
     "output_type": "stream",
     "text": [
      "Fizz\n",
      "Buzz\n",
      "Fizz\n",
      "Fizz\n",
      "Buzz\n",
      "Fizz\n",
      "FizzBuzz\n",
      "Fizz\n",
      "Buzz\n",
      "Fizz\n",
      "Fizz\n",
      "Buzz\n",
      "Fizz\n",
      "FizzBuzz\n",
      "Fizz\n",
      "Buzz\n",
      "Fizz\n",
      "Fizz\n",
      "Buzz\n",
      "Fizz\n",
      "FizzBuzz\n",
      "Fizz\n",
      "Buzz\n",
      "Fizz\n",
      "Fizz\n",
      "Buzz\n",
      "Fizz\n",
      "FizzBuzz\n"
     ]
    }
   ],
   "source": [
    "#6. Write a Python program which iterates the integers from 1\n",
    "#to 60. For multiples of three print \"Fizz\" instead of the\n",
    "# Innomatics\n",
    " #Strange Coder\n",
    "#number and for the multiples of five print \"Buzz\". For\n",
    "#numbers which are multiples of both three and five print\n",
    "#\"FizzBuzz\n",
    "for i in range(1,61):\n",
    "    if i%3==0 and i%5==0:\n",
    "        print(\"FizzBuzz\")\n",
    "    elif i%5==0:\n",
    "        print(\"Buzz\")\n",
    "    elif i%3==0:\n",
    "        print(\"Fizz\")"
   ]
  },
  {
   "cell_type": "code",
   "execution_count": 13,
   "id": "ea1749da",
   "metadata": {},
   "outputs": [
    {
     "name": "stdout",
     "output_type": "stream",
     "text": [
      "enter the stringPython 3.2\n",
      "Letters :  6\n",
      "Digits :  2\n"
     ]
    }
   ],
   "source": [
    "#7. Write a Python program that accepts a string and calculate the number of digits and letters\n",
    "s1=input(\"enter the string\")\n",
    "d=0\n",
    "l=0\n",
    "for i in s1:\n",
    "    if i.isalpha():\n",
    "        l+=1\n",
    "    elif i.isdigit():\n",
    "        d+=1\n",
    "print(\"Letters : \",l)\n",
    "print(\"Digits : \",d)"
   ]
  },
  {
   "cell_type": "code",
   "execution_count": 3,
   "id": "809f41a3",
   "metadata": {},
   "outputs": [
    {
     "name": "stdout",
     "output_type": "stream",
     "text": [
      "enter the passwordraghu@123\n",
      "password should be strong\n"
     ]
    }
   ],
   "source": [
    "#8.) Write a Python program to check the validity of password input by users\n",
    "s1=input(\"enter the password\")\n",
    "l=0\n",
    "u=0\n",
    "d=0\n",
    "spec=0\n",
    "if len(s1)>6:\n",
    "    for i in s1:\n",
    "        if i.islower():\n",
    "            l+=1\n",
    "        elif i.isupper():\n",
    "            u+=1\n",
    "        elif i.isdigit():\n",
    "            d+=1\n",
    "        elif i==\"@\" or i==\"$\" or i==\"#\":\n",
    "            spec+=1\n",
    "if (l>=1 and u>=1 and d>=1 and spec>=1 and l+u+d+spec==len(s1)):\n",
    "    print(\"the password is valid\")\n",
    "else:\n",
    "    print(\"password should be strong\")"
   ]
  },
  {
   "cell_type": "code",
   "execution_count": 9,
   "id": "147bffce",
   "metadata": {},
   "outputs": [
    {
     "name": "stdout",
     "output_type": "stream",
     "text": [
      "enter the wordpython\n",
      "nohtyp\n"
     ]
    }
   ],
   "source": [
    "#9.) Write a program in Python to reverse a word by using while loop\n",
    "s1=input(\"enter the word\")\n",
    "reverse=\"\"\n",
    "a=len(s1)-1\n",
    "while a>=0:\n",
    "    reverse+=s1[a]\n",
    "    a-=1\n",
    "print(reverse)\n"
   ]
  },
  {
   "cell_type": "code",
   "execution_count": 23,
   "id": "73088d97",
   "metadata": {},
   "outputs": [
    {
     "name": "stdout",
     "output_type": "stream",
     "text": [
      "enter the number10\n",
      "5.5\n"
     ]
    }
   ],
   "source": [
    "#10.Write a program which takes 10 integers as input using loop and print their average value on the screen\n",
    "num=int(input(\"enter the number\"))\n",
    "sum=0\n",
    "for i in range(1,num+1):\n",
    "    sum+=i\n",
    "    avg=sum/num\n",
    "print(avg)\n",
    "    "
   ]
  },
  {
   "cell_type": "code",
   "execution_count": 22,
   "id": "04e2a18f",
   "metadata": {},
   "outputs": [
    {
     "name": "stdout",
     "output_type": "stream",
     "text": [
      "enter the number or q to quit : 7\n",
      "enter the number or q to quit : 7\n",
      "enter the number or q to quit : 4\n",
      "enter the number or q to quit : q\n",
      "The average of all numbers :  6\n",
      "The product of all numbers :  196\n"
     ]
    }
   ],
   "source": [
    "#11.Write a program which takes integer inputs from user untilhe/she presses “q” (Ask to press q to quit after every integer\n",
    "#input.\n",
    "#Print average and product of all numbers\n",
    "sum1=0\n",
    "c=0\n",
    "prod=1\n",
    "while True:\n",
    "    num=input(\"enter the number or q to quit : \")\n",
    "    if num==\"q\":\n",
    "        break\n",
    "    sum1+=int(num)\n",
    "    c+=1\n",
    "    prod*=int(num)\n",
    "print(\"The average of all numbers : \",sum1//c)\n",
    "print(\"The product of all numbers : \",prod)\n",
    "    \n",
    "\n"
   ]
  },
  {
   "cell_type": "code",
   "execution_count": 26,
   "id": "4fb4d89d",
   "metadata": {},
   "outputs": [
    {
     "name": "stdout",
     "output_type": "stream",
     "text": [
      "enter the string : asd12.asd22\n",
      "asdasd"
     ]
    }
   ],
   "source": [
    "#12) Write a Python program which will remove all digits or any other characters from the string except alphabets\n",
    "s1=input('enter the string : ')\n",
    "for i in s1:\n",
    "    if i.isalpha():\n",
    "        print(i,end=\"\")"
   ]
  },
  {
   "cell_type": "code",
   "execution_count": 30,
   "id": "3e1ddb18",
   "metadata": {},
   "outputs": [
    {
     "name": "stdout",
     "output_type": "stream",
     "text": [
      "Th sum of all even numbers from 0 t0 10 is : 30\n"
     ]
    }
   ],
   "source": [
    "#13.Write a python program to find the sum of all even numbers from 0 to 10\n",
    "sum=0\n",
    "for i in range(0,11):\n",
    "    if i%2==0:\n",
    "        sum+=i\n",
    "print(\"Th sum of all even numbers from 0 t0 10 is :\",sum)\n"
   ]
  },
  {
   "cell_type": "code",
   "execution_count": 5,
   "id": "5f027145",
   "metadata": {},
   "outputs": [
    {
     "name": "stdout",
     "output_type": "stream",
     "text": [
      "enter the number : 5\n",
      "4\n",
      "3\n",
      "2\n",
      "1\n",
      "0\n"
     ]
    }
   ],
   "source": [
    "#14.Write a python program which will accept a digit and print All the numbers before it till 0\n",
    "a=int(input(\"enter the number : \"))\n",
    "for i in range(0,a):\n",
    "    print(a-i-1)\n",
    "    \n",
    "    \n"
   ]
  },
  {
   "cell_type": "code",
   "execution_count": 11,
   "id": "993940a8",
   "metadata": {},
   "outputs": [
    {
     "name": "stdout",
     "output_type": "stream",
     "text": [
      "eneter first value :10\n",
      "enter second value :20\n",
      "type any of this [+, -, *, /, %, **,c] *\n",
      "the product of two numbers is : 200\n",
      "eneter first value :10\n",
      "enter second value :20\n",
      "type any of this [+, -, *, /, %, **,c] c\n"
     ]
    }
   ],
   "source": [
    "#15.Create a dynamic calculator which will run continually till you press “c”\n",
    "while True:\n",
    "    num1=int(input(\"eneter first value :\"))\n",
    "    num2=int(input(\"enter second value :\"))\n",
    "    \n",
    "    choice=input(\"type any of this [+, -, *, /, %, **,c] \")\n",
    "    if choice==\"+\":\n",
    "        print(\"The addition of two numbers is :\",num1+num2)\n",
    "    elif choice==\"-\":\n",
    "        print(\"the substraction of two numbers is :\",num1-num2)\n",
    "    elif choice==\"*\":\n",
    "        print(\"the product of two numbers is :\",num1*num2)\n",
    "    elif choice==\"%\":\n",
    "        print(\"the  floor division of two numbers is\",num1%num2)\n",
    "    elif choice==\"/\":\n",
    "        print(\"the floor division of twi numbers is \",num1/num2)\n",
    "    elif choice==\"**\":\n",
    "        print(\"the power of two numbers is\",num1**num2)\n",
    "    elif choice==\"c\":\n",
    "        break"
   ]
  }
 ],
 "metadata": {
  "kernelspec": {
   "display_name": "Python 3 (ipykernel)",
   "language": "python",
   "name": "python3"
  },
  "language_info": {
   "codemirror_mode": {
    "name": "ipython",
    "version": 3
   },
   "file_extension": ".py",
   "mimetype": "text/x-python",
   "name": "python",
   "nbconvert_exporter": "python",
   "pygments_lexer": "ipython3",
   "version": "3.9.13"
  }
 },
 "nbformat": 4,
 "nbformat_minor": 5
}
