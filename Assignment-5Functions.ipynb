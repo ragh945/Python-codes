{
 "cells": [
  {
   "cell_type": "code",
   "execution_count": 3,
   "id": "90f5842f",
   "metadata": {},
   "outputs": [
    {
     "name": "stdout",
     "output_type": "stream",
     "text": [
      "The maximum of three numbers is : 70\n"
     ]
    }
   ],
   "source": [
    "#1.Define a function which will return Max of three numbers\n",
    "def Max(a,b,c):\n",
    "    if (a>b and a>c):\n",
    "        return a\n",
    "    elif (b>c and b>a):\n",
    "        return b\n",
    "    else:\n",
    "        return c\n",
    "print(\"The maximum of three numbers is : {}\".format(Max(10,20,70)))"
   ]
  },
  {
   "cell_type": "code",
   "execution_count": 10,
   "id": "942b8bb6",
   "metadata": {},
   "outputs": [
    {
     "name": "stdout",
     "output_type": "stream",
     "text": [
      "Enter the string :python\n",
      "The reverse of a string is :nohtyp\n"
     ]
    }
   ],
   "source": [
    "#2.Define a Python Function to reverse a string.\n",
    "def Revstr(x):\n",
    "    s1=\"\"\n",
    "    b=len(x)-1\n",
    "    while b>=0:\n",
    "        s1=s1+x[b]\n",
    "        b-=1\n",
    "    return s1 \n",
    "x=input(\"Enter the string :\")\n",
    "print(\"The reverse of a string is :{}\".format(Revstr(x)))      "
   ]
  },
  {
   "cell_type": "code",
   "execution_count": 11,
   "id": "d676e400",
   "metadata": {},
   "outputs": [
    {
     "name": "stdout",
     "output_type": "stream",
     "text": [
      "Enter the string :python\n",
      "The reverse of a string is :nohtyp\n"
     ]
    }
   ],
   "source": [
    "#Method-2\n",
    "def Revstr(x):\n",
    "    s1=x[::-1]\n",
    "    return s1\n",
    "x=input(\"Enter the string :\")\n",
    "print(\"The reverse of a string is :{}\".format(Revstr(x)))      "
   ]
  },
  {
   "cell_type": "code",
   "execution_count": 14,
   "id": "11219bbb",
   "metadata": {},
   "outputs": [
    {
     "name": "stdout",
     "output_type": "stream",
     "text": [
      "enter the 1st num :4\n",
      "enter the 2nd num :5\n",
      "enter the 3rd num :6\n",
      "4+5=9\n",
      "4-5=-1\n",
      "4*5=20\n"
     ]
    }
   ],
   "source": [
    "#3.Write a Python program to define a function that accepts 2 values and return its sum, subtraction and multiplication.\n",
    "def Oper(a,b):\n",
    "    yield \"{}+{}={}\".format(a,b,a+b)\n",
    "    yield \"{}-{}={}\".format(a,b,a-b)\n",
    "    yield \"{}*{}={}\".format(a,b,a*b)\n",
    "a=int(input(\"enter the 1st num :\"))\n",
    "b=int(input(\"enter the 2nd num :\"))\n",
    "c=int(input(\"enter the 3rd num :\"))\n",
    "for i in Oper(a,b):\n",
    "    print(i)"
   ]
  },
  {
   "cell_type": "code",
   "execution_count": 31,
   "id": "9f83b437",
   "metadata": {},
   "outputs": [
    {
     "name": "stdout",
     "output_type": "stream",
     "text": [
      "Enter the rollno :197\n"
     ]
    },
    {
     "data": {
      "text/plain": [
       "'Student is present'"
      ]
     },
     "execution_count": 31,
     "metadata": {},
     "output_type": "execute_result"
    }
   ],
   "source": [
    "#4. Define a function that accepts roll number and returns whether the student is present or absent\n",
    "def Info(rollno,**d):\n",
    "    for keys,values in d.items():\n",
    "        if rollno in d.values():\n",
    "            return \"Student is present\"\n",
    "        else:\n",
    "            return \"absent\"\n",
    "rollno=int(input(\"Enter the rollno :\"))\n",
    "Info(rollno,raghu=197,siri=98,tej=88)"
   ]
  },
  {
   "cell_type": "code",
   "execution_count": 34,
   "id": "af18656f",
   "metadata": {},
   "outputs": [
    {
     "name": "stdout",
     "output_type": "stream",
     "text": [
      "enter the value : 100\n",
      "The maximum of n numbers :  99\n"
     ]
    }
   ],
   "source": [
    "#Define a function in python that accepts n values and returns the maximum of n numbers\n",
    "def Max(n):\n",
    "    b=print(\"The maximum of n numbers : \",max(x))\n",
    "    return b\n",
    "n=range(int(input(\"enter the value : \")))\n",
    "Max(n)"
   ]
  },
  {
   "cell_type": "code",
   "execution_count": 39,
   "id": "e2548c0c",
   "metadata": {},
   "outputs": [
    {
     "name": "stdout",
     "output_type": "stream",
     "text": [
      "The maximum of n numbers is : 10\n"
     ]
    }
   ],
   "source": [
    "#Method-2\n",
    "def Max(*n):\n",
    "    min_=n[0]\n",
    "    max_=n[0]\n",
    "    for i in range(len(n)):\n",
    "        if n[i]>max_:\n",
    "            max_=n[i]\n",
    "    return max_\n",
    "print(\"The maximum of n numbers is :\",Max(1,2,3,4,5,7,9,10))"
   ]
  },
  {
   "cell_type": "code",
   "execution_count": 26,
   "id": "a688f950",
   "metadata": {},
   "outputs": [
    {
     "name": "stdout",
     "output_type": "stream",
     "text": [
      "The number of vowels are: 4\n",
      "Consonants are : 6\n"
     ]
    }
   ],
   "source": [
    "#6. Define a function which counts vowels and consonant in a word.\n",
    "def Alpha(x,vowels):\n",
    "    vowel=0\n",
    "    consonant=0\n",
    "    for i in x:\n",
    "        if i not in vowels:\n",
    "            consonant+=1\n",
    "        elif i in vowels:\n",
    "            vowel+=1\n",
    "    print(\"The number of vowels are:\",vowel)\n",
    "    print(\"Consonants are :\",consonant)\n",
    "x=\"innomatics\"\n",
    "vowels=[\"a\",\"e\",\"i\",\"o\",\"u\"]\n",
    "Alpha(x,vowels)"
   ]
  },
  {
   "cell_type": "code",
   "execution_count": 27,
   "id": "36d0e161",
   "metadata": {},
   "outputs": [
    {
     "data": {
      "text/plain": [
       "40320"
      ]
     },
     "execution_count": 27,
     "metadata": {},
     "output_type": "execute_result"
    }
   ],
   "source": [
    "#7.Define a function that returns Factorial of a number\n",
    "def fact(n):\n",
    "    if n==0 or n==1:\n",
    "        return 1\n",
    "    else:\n",
    "        return n*fact(n-1)\n",
    "fact(8)"
   ]
  },
  {
   "cell_type": "code",
   "execution_count": 29,
   "id": "c2d0d600",
   "metadata": {},
   "outputs": [
    {
     "name": "stdout",
     "output_type": "stream",
     "text": [
      "enter the number :8\n"
     ]
    },
    {
     "data": {
      "text/plain": [
       "40320"
      ]
     },
     "execution_count": 29,
     "metadata": {},
     "output_type": "execute_result"
    }
   ],
   "source": [
    "def fact(n):\n",
    "    fact=1\n",
    "    if n==0 or n==1:\n",
    "        return 1\n",
    "    elif n<0:\n",
    "        return \"factorial doesn't exist for negetive numbers\"\n",
    "    else:\n",
    "        while n>0:\n",
    "            fact=fact*n\n",
    "            n-=1\n",
    "        return fact\n",
    "n=int(input(\"enter the number :\"))\n",
    "fact(n)\n",
    "        "
   ]
  },
  {
   "cell_type": "code",
   "execution_count": 30,
   "id": "891ada6a",
   "metadata": {},
   "outputs": [
    {
     "name": "stdout",
     "output_type": "stream",
     "text": [
      "enter the radius :6\n"
     ]
    },
    {
     "data": {
      "text/plain": [
       "'Area of a circle is :113.14285714285714'"
      ]
     },
     "execution_count": 30,
     "metadata": {},
     "output_type": "execute_result"
    }
   ],
   "source": [
    "#8.Define a function that accepts radius and returns the area of a circle\n",
    "def Area(radius):\n",
    "    area=(22/7)*radius**2\n",
    "    return \"Area of a circle is :{}\".format(area)\n",
    "radius=int(input(\"enter the radius :\"))\n",
    "Area(radius)"
   ]
  },
  {
   "cell_type": "code",
   "execution_count": 4,
   "id": "8585064b",
   "metadata": {},
   "outputs": [
    {
     "name": "stdout",
     "output_type": "stream",
     "text": [
      "enter the number :8\n"
     ]
    },
    {
     "data": {
      "text/plain": [
       "'8 is not a prime number '"
      ]
     },
     "execution_count": 4,
     "metadata": {},
     "output_type": "execute_result"
    }
   ],
   "source": [
    "#9. Define a function that takes a number as a parameter and check the number is prime or not.\n",
    "def Prime(n):\n",
    "    for i in range(2,n+1):\n",
    "        if n%i==0:\n",
    "            return \"{} is not a prime number \".format(n)\n",
    "        else:\n",
    "            return \"{} is a prime number\".format(n)\n",
    "n=int(input(\"enter the number :\"))\n",
    "Prime(n)"
   ]
  },
  {
   "cell_type": "code",
   "execution_count": 12,
   "id": "33a629f1",
   "metadata": {},
   "outputs": [
    {
     "data": {
      "text/plain": [
       "'False'"
      ]
     },
     "execution_count": 12,
     "metadata": {},
     "output_type": "execute_result"
    }
   ],
   "source": [
    "#10. Mary wants to run a 25-mile marathon. When she attempts to sign up for the marathon, she notices the sign-up sheet doesn't \n",
    "#directly state the marathon's length. Instead, the marathon's length is listed in small, different portions. Help Mary find out how long \n",
    "#the marathon actually is. So create a function that ** Return True if the marathon is 25 miles long, otherwise, return False.\n",
    "#Examples :-\n",
    "#marathon_distance([1, 2, 3, 4]) ➞ False \n",
    "#marathon_distance([1, 9, 5, 8, 2]) ➞ True\n",
    "#marathon_distance([-6, 15, 4]) ➞ True\n",
    "#Notes Items in the list will always be integers\n",
    "#. Items in the list may be negative or positive, but since negative \n",
    "#distance isn't possible, find a way to convert negative integers into positive integers\n",
    "def marathon_distance(list1):\n",
    "    sum=0\n",
    "    for i in range(len(list1)):\n",
    "        sum+=abs(list1[i])\n",
    "    if sum==25:\n",
    "        return \"True\"\n",
    "    else:\n",
    "        return \"False\"\n",
    "marathon_distance([1,2,3,4])"
   ]
  },
  {
   "cell_type": "code",
   "execution_count": 15,
   "id": "18df1610",
   "metadata": {},
   "outputs": [
    {
     "data": {
      "text/plain": [
       "'True'"
      ]
     },
     "execution_count": 15,
     "metadata": {},
     "output_type": "execute_result"
    }
   ],
   "source": [
    "#11. Create a function that takes a number and returns True if the number is automorphic, False if it isn't. ** number n is automorphic if n^2 ends in n.\n",
    "#Example:\n",
    "#n=5, n^2=25 so 5 is an automorphic\n",
    "def Automorp(n):\n",
    "    sq=n*n\n",
    "    length=len(str(n))\n",
    "    last_digit=sq%pow(10,length)\n",
    "    if last_digit==n:\n",
    "        return \"True\"\n",
    "    else:\n",
    "        return \"False\"\n",
    "Automorp(25)"
   ]
  },
  {
   "cell_type": "code",
   "execution_count": 19,
   "id": "808cca00",
   "metadata": {},
   "outputs": [
    {
     "data": {
      "text/plain": [
       "'True'"
      ]
     },
     "execution_count": 19,
     "metadata": {},
     "output_type": "execute_result"
    }
   ],
   "source": [
    "#12) Create a function, that will take given a, b, c, and do the following: Add a to itself b times and Check if the result is divisible by c.\n",
    " #and return true if it is divisible by c or false\n",
    "def Check(a,b,c):\n",
    "    result=a*b\n",
    "    if result%c==0:\n",
    "        return \"True\"\n",
    "    else:\n",
    "        return \"False\"\n",
    "Check(1,2,2) "
   ]
  },
  {
   "cell_type": "code",
   "execution_count": 25,
   "id": "1b9b8450",
   "metadata": {},
   "outputs": [
    {
     "name": "stdout",
     "output_type": "stream",
     "text": [
      "Make me :D\n",
      "Make me :)\n",
      "Make me :P\n"
     ]
    }
   ],
   "source": [
    "# 13) Create a function that changes specific words into emoticons. \n",
    "#Given a sentence as a string, replace the words smile, grin, sad and mad with their corresponding emoticons.\n",
    "#word emoticon\n",
    "#smile :D\n",
    "#grin :) \n",
    "#sad :( \n",
    "#mad :P\n",
    "def Emot(x):\n",
    "    s1=x.split(\" \")\n",
    "    s2=[\"smile\",\"grin\",\"sad\",\"mad\"]\n",
    "    s3=[\":D\",\":)\",\":(\",\":P\"]\n",
    "    for i in range(len(s1)):\n",
    "        if s1[i]==\"smile\":\n",
    "            s1[i]=\":D\"\n",
    "        elif s1[i]==\"grin\":\n",
    "            s1[i]=\":(\"\n",
    "        elif s1[i]==\"sad\":\n",
    "            s1[i]=\":)\"\n",
    "        elif s1[i]==\"mad\":\n",
    "            s1[i]=\":P\"\n",
    "    return \" \".join(s1)\n",
    "        \n",
    "print(Emot(\"Make me smile\"))\n",
    "print(Emot(\"Make me sad\"))\n",
    "print(Emot(\"Make me mad\"))"
   ]
  },
  {
   "cell_type": "code",
   "execution_count": 34,
   "id": "19152419",
   "metadata": {},
   "outputs": [
    {
     "name": "stdout",
     "output_type": "stream",
     "text": [
      "The square of numbers :[1, 4, 9, 16, 25, 36, 49, 64, 81, 100]\n",
      "The cube   of numbers :[1, 8, 27, 64, 125, 216, 343, 512, 729, 1000]\n"
     ]
    }
   ],
   "source": [
    "#14 Write a Python program to square and cube every number in a given list of integers using Lambda  \n",
    "list1=[1,2,3,4,5,6,7,8,9,10]\n",
    "b=map(lambda x:x**2,list1)\n",
    "c=map(lambda x:x**3,list1)\n",
    "print(\"The square of numbers :{}\".format(list(b)))\n",
    "print(\"The cube   of numbers :{}\".format(list(c)))"
   ]
  },
  {
   "cell_type": "code",
   "execution_count": 45,
   "id": "db9b7a5c",
   "metadata": {},
   "outputs": [
    {
     "data": {
      "text/plain": [
       "True"
      ]
     },
     "execution_count": 45,
     "metadata": {},
     "output_type": "execute_result"
    }
   ],
   "source": [
    "#15)Write a Python program to check whether a given string is number or not using Lambda\n",
    "x=\"innomatics\"\n",
    "b=lambda x:x.isdigit() \n",
    "b(\"1234\")"
   ]
  }
 ],
 "metadata": {
  "kernelspec": {
   "display_name": "Python 3 (ipykernel)",
   "language": "python",
   "name": "python3"
  },
  "language_info": {
   "codemirror_mode": {
    "name": "ipython",
    "version": 3
   },
   "file_extension": ".py",
   "mimetype": "text/x-python",
   "name": "python",
   "nbconvert_exporter": "python",
   "pygments_lexer": "ipython3",
   "version": "3.9.13"
  }
 },
 "nbformat": 4,
 "nbformat_minor": 5
}
