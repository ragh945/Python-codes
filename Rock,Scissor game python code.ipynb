{
 "cells": [
  {
   "cell_type": "code",
   "execution_count": 3,
   "id": "e11bb609",
   "metadata": {},
   "outputs": [
    {
     "name": "stdout",
     "output_type": "stream",
     "text": [
      "enter the person1rock\n",
      "enter the person2paper\n",
      "person2 wins\n"
     ]
    }
   ],
   "source": [
    "#Paper,Scissor & rock game python code\n",
    "P1=input(\"enter the person1\")\n",
    "P2=input('enter the person2')\n",
    "if P1==\"rock\":\n",
    "    if P2==\"rock\":\n",
    "        print(\"match is tie\")\n",
    "    elif P2==\"paper\":\n",
    "        print(\"person2 wins\")\n",
    "    elif P2==\"scissor\":\n",
    "        print(\"person1 wins\")\n",
    "elif P1==\"paper\":\n",
    "    if P2==\"paper\":\n",
    "        print(\"match is tie\")\n",
    "    elif P2==\"scissor\":\n",
    "        print(\"person2 wins\")\n",
    "    elif P2==\"rock\":\n",
    "        print(\"person2 wins\")\n",
    "elif P1==\"scissor\":\n",
    "    if P2==\"scissor\":\n",
    "        print(\"match is tie\")\n",
    "    elif P2==\"rock\":\n",
    "        print(\"person2 wins\")\n",
    "    elif P2==\"paper\":\n",
    "        print(\"person1 wins\")\n",
    "else:\n",
    "    print('Invalid input')\n",
    "        \n",
    "        \n",
    "    "
   ]
  },
  {
   "cell_type": "code",
   "execution_count": null,
   "id": "31414a8e",
   "metadata": {},
   "outputs": [],
   "source": []
  }
 ],
 "metadata": {
  "kernelspec": {
   "display_name": "Python 3 (ipykernel)",
   "language": "python",
   "name": "python3"
  },
  "language_info": {
   "codemirror_mode": {
    "name": "ipython",
    "version": 3
   },
   "file_extension": ".py",
   "mimetype": "text/x-python",
   "name": "python",
   "nbconvert_exporter": "python",
   "pygments_lexer": "ipython3",
   "version": "3.9.13"
  }
 },
 "nbformat": 4,
 "nbformat_minor": 5
}
