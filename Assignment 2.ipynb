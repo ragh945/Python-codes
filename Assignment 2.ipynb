{
 "cells": [
  {
   "cell_type": "code",
   "execution_count": 1,
   "id": "1340a42f",
   "metadata": {},
   "outputs": [
    {
     "name": "stdout",
     "output_type": "stream",
     "text": [
      "enter the 1st number5\n",
      "enter the 2nd number7\n",
      "The multiplication of 5*7=35\n",
      "the division of 5%7=5\n"
     ]
    }
   ],
   "source": [
    "#python program to accepts two inputs from user and calculate multiplication & division\n",
    "num1=int(input(\"enter the 1st number\"))\n",
    "num2=int(input(\"enter the 2nd number\"))\n",
    "print(\"The multiplication of {}*{}={}\".format(num1,num2,num1*num2))\n",
    "print(\"the division of {}%{}={}\".format(num1,num2,num1%num2))"
   ]
  },
  {
   "cell_type": "code",
   "execution_count": 2,
   "id": "ca7f6f71",
   "metadata": {},
   "outputs": [
    {
     "name": "stdout",
     "output_type": "stream",
     "text": [
      "inmtc"
     ]
    }
   ],
   "source": [
    "#a python program to print the characters from a string that are present at an even index\n",
    "s1=\"innomatics\"\n",
    "len(s1)\n",
    "for i in range(len(s1)):\n",
    "    if i%2==0:\n",
    "        print(s1[i],end=\"\")"
   ]
  },
  {
   "cell_type": "code",
   "execution_count": 3,
   "id": "7134a54d",
   "metadata": {},
   "outputs": [
    {
     "name": "stdout",
     "output_type": "stream",
     "text": [
      "noais"
     ]
    }
   ],
   "source": [
    "#python program to print the characters from a string that are present at an odd index\n",
    "s1=\"innomatics\"\n",
    "len(s1)\n",
    "for i in range(len(s1)):\n",
    "    if i%2!=0:\n",
    "        print(s1[i],end=\"\")"
   ]
  },
  {
   "cell_type": "code",
   "execution_count": 4,
   "id": "de5aa5eb",
   "metadata": {},
   "outputs": [
    {
     "name": "stdout",
     "output_type": "stream",
     "text": [
      "enter the 1st number 8\n",
      "enter the 2nd number 4\n",
      "8+4=12\n"
     ]
    }
   ],
   "source": [
    "#python program which will print the sum of the two numbers if the two numbers are even or it will print the difference of two numbers\n",
    "num1=int(input(\"enter the 1st number \"))\n",
    "num2=int(input(\"enter the 2nd number \"))\n",
    "if num1%2==0 and num2%2==0:\n",
    "    print(\"{}+{}={}\".format(num1,num2,num1+num2))\n",
    "else:\n",
    "    print(\"{}-{}={}\".format(num1,num2,num1-num2))"
   ]
  },
  {
   "cell_type": "code",
   "execution_count": 5,
   "id": "e17b4c67",
   "metadata": {},
   "outputs": [
    {
     "name": "stdout",
     "output_type": "stream",
     "text": [
      "InNoMaTiCs"
     ]
    }
   ],
   "source": [
    "#python program to convert all even indexed alphabets to upper and odd indexed char\n",
    "s1=\"innomatics\"\n",
    "len(s1)\n",
    "for i in range(len(s1)):\n",
    "    if i%2==0:\n",
    "        print(s1[i].upper(),end=\"\")\n",
    "    elif i%2!=0:\n",
    "        print(s1[i].lower(),end=\"\")\n",
    "    "
   ]
  },
  {
   "cell_type": "code",
   "execution_count": 6,
   "id": "d0d18e02",
   "metadata": {},
   "outputs": [
    {
     "name": "stdout",
     "output_type": "stream",
     "text": [
      "enter the number95\n",
      "True\n"
     ]
    }
   ],
   "source": [
    "#python program which will print True if the input number is divisible by 5 or else False\n",
    "num1=int(input(\"enter the number\"))\n",
    "if num1%5==0:\n",
    "    print(\"True\")\n",
    "else:\n",
    "    print(\"False\")"
   ]
  },
  {
   "cell_type": "code",
   "execution_count": 7,
   "id": "dc83676c",
   "metadata": {},
   "outputs": [
    {
     "data": {
      "text/plain": [
       "2000"
      ]
     },
     "execution_count": 7,
     "metadata": {},
     "output_type": "execute_result"
    }
   ],
   "source": [
    "#Given two integer numbers return their product only if the product is greater than 1000, else return their sum\n",
    "def f1(x,y):\n",
    "    if x*y>1000:\n",
    "        return x*y\n",
    "    else:\n",
    "        return x+y\n",
    "f1(200,10)"
   ]
  },
  {
   "cell_type": "code",
   "execution_count": 8,
   "id": "9efdf37d",
   "metadata": {},
   "outputs": [
    {
     "name": "stdout",
     "output_type": "stream",
     "text": [
      "pjtvos\n"
     ]
    }
   ],
   "source": [
    "#X=” pytho” Y=” javas” Output ” pjtvos”\n",
    "x=\"pytho\"\n",
    "y=\"javas\"\n",
    "w=x[0]+y[0]+x[len(x)//2]+y[len(y)//2]+x[-1]+y[-1]\n",
    "print(w)"
   ]
  },
  {
   "cell_type": "code",
   "execution_count": 9,
   "id": "c2564664",
   "metadata": {},
   "outputs": [
    {
     "name": "stdout",
     "output_type": "stream",
     "text": [
      "enter three namesperson1,peron2,person3\n",
      "Name1 : person1\n",
      "Name2 : peron2\n",
      "Name3 : person3\n"
     ]
    }
   ],
   "source": [
    "#Write a python program to take three names as input from a user in the single input () function call\n",
    "b1=input(\"enter three names\")\n",
    "c=b1.split(\",\")\n",
    "print(\"Name1 :\",\"\".join(c[0]))\n",
    "print(\"Name2 :\",\"\".join(c[1]))\n",
    "print(\"Name3 :\",\"\".join(c[2]))\n"
   ]
  },
  {
   "cell_type": "code",
   "execution_count": 10,
   "id": "6005c0bb",
   "metadata": {},
   "outputs": [
    {
     "data": {
      "text/plain": [
       "'malayala@'"
      ]
     },
     "execution_count": 10,
     "metadata": {},
     "output_type": "execute_result"
    }
   ],
   "source": [
    "#python program string where all occurrences of its first char have been changed to '@', except the first char itself.\n",
    "s1=\"malayalam\"\n",
    "c=s1[0]+s1[1: ].replace(\"m\",\"@\")\n",
    "c"
   ]
  },
  {
   "cell_type": "code",
   "execution_count": 11,
   "id": "afef3db9",
   "metadata": {},
   "outputs": [
    {
     "data": {
      "text/plain": [
       "'abc@b@b'"
      ]
     },
     "execution_count": 11,
     "metadata": {},
     "output_type": "execute_result"
    }
   ],
   "source": [
    "s2=\"abcabab\"\n",
    "c=s2[0]+s2[1: ].replace(\"a\",\"@\")\n",
    "c"
   ]
  },
  {
   "cell_type": "code",
   "execution_count": 5,
   "id": "f63fc781",
   "metadata": {},
   "outputs": [
    {
     "name": "stdout",
     "output_type": "stream",
     "text": [
      "enter the stringsing\n",
      "singly\n"
     ]
    }
   ],
   "source": [
    "#Write a Python program to add 'ing' at the end of a given string (string length should be equal to or more than 3). If the given string already ends with 'ing' then add 'ly' instead. If the string length of the given string is less than 3, leave it unchanged Example: Input: 'sing’ Output: 'singing' Input: ' playing' Output: ‘playly’\n",
    "s1=input(\"enter the string\")\n",
    "if len(s1) >= 3:\n",
    "    if s1[-3:] == 'ing':\n",
    "        s1+= 'ly'\n",
    "        print(s1)\n",
    "    else:\n",
    "        s1+= 'ing'\n",
    "        print(s1)\n",
    "else:\n",
    "    print(s1)\n"
   ]
  },
  {
   "cell_type": "code",
   "execution_count": 14,
   "id": "f3d09689",
   "metadata": {},
   "outputs": [
    {
     "name": "stdout",
     "output_type": "stream",
     "text": [
      "enter the 1st number10\n",
      "enter the 2nd number20\n",
      "True\n"
     ]
    }
   ],
   "source": [
    "#Write a python program that accepts two inputs num1 and num2 print True if one of them is 10 or if their sum is 10 otherwise print False\n",
    "num1=int(input(\"enter the 1st number\"))\n",
    "num2=int(input(\"enter the 2nd number\"))\n",
    "if num1==10 or num2==10 or num1+num2==10:\n",
    "    print(\"True\")\n",
    "else:\n",
    "    print(\"False\")"
   ]
  },
  {
   "cell_type": "code",
   "execution_count": 15,
   "id": "aa107ef4",
   "metadata": {},
   "outputs": [
    {
     "data": {
      "text/plain": [
       "'True'"
      ]
     },
     "execution_count": 15,
     "metadata": {},
     "output_type": "execute_result"
    }
   ],
   "source": [
    "#Write a python program that accepts three inputs x, y and z print True if x*y>z otherwise False\n",
    "def f1(x,y,z):\n",
    "    if x*y>z:\n",
    "        return \"True\"\n",
    "    else:\n",
    "        return \"False\"\n",
    "f1(10,2,3)\n",
    "    "
   ]
  },
  {
   "cell_type": "code",
   "execution_count": 17,
   "id": "c9d03356",
   "metadata": {},
   "outputs": [
    {
     "name": "stdout",
     "output_type": "stream",
     "text": [
      "enter the string1: door\n",
      "enter the string2: pink\n",
      "True\n"
     ]
    }
   ],
   "source": [
    "#Write a python program that accepts two strings inputs return True depending on whether the total number of characters in the first string is equal to the total number of characters in the second string\n",
    "s1=input(\"enter the string1: \")\n",
    "s2=input(\"enter the string2: \")\n",
    "if len(s1)==len(s2):\n",
    "    print(\"True\")\n",
    "else:\n",
    "    print(\"False\")"
   ]
  },
  {
   "cell_type": "code",
   "execution_count": 9,
   "id": "8d468d15",
   "metadata": {},
   "outputs": [
    {
     "name": "stdout",
     "output_type": "stream",
     "text": [
      "enter the stringabcdef\n",
      "abcabcabc\n"
     ]
    }
   ],
   "source": [
    "#Write a python program that takes a string input, we'll say\n",
    "#that the front is the first three characters of the string. If the string length is less than three characters, the front is whatever is there. Return a new string, which is three copies of the front\n",
    "s1=input(\"enter the string\")\n",
    "front=s1[:3]\n",
    "if len(s1)>3:\n",
    "    print(front*3)\n",
    "else:\n",
    "    print(s1)\n",
    "    "
   ]
  },
  {
   "cell_type": "code",
   "execution_count": 16,
   "id": "5c4309c5",
   "metadata": {},
   "outputs": [
    {
     "name": "stdout",
     "output_type": "stream",
     "text": [
      "enter the stringbats\n",
      "it is plural\n"
     ]
    }
   ],
   "source": [
    "# Write a python program that takes in a word and determines whether or not it is plural. A plural word is one that ends in \"s\".\n",
    "s1=input(\"enter the string\")\n",
    "if s1.endswith(\"s\"):\n",
    "    print(\"it is plural\")\n",
    "else:\n",
    "    print(\"it is not plural\")"
   ]
  },
  {
   "cell_type": "code",
   "execution_count": 7,
   "id": "3dc66b68",
   "metadata": {},
   "outputs": [
    {
     "name": "stdout",
     "output_type": "stream",
     "text": [
      "enter the stringabcdehjk$@#&\n",
      "vowels are:  ae\n",
      "consonants are:  bcdhjk\n",
      "Specialsym are:  $@#&\n"
     ]
    }
   ],
   "source": [
    "#19) Write a python program that takes a string, breaks it up and returns it with vowels first, consonants second. For any character that's not a vowel (like special characters or spaces), treat them like consonants\n",
    "s1=input(\"enter the string\")\n",
    "vowels=[\"a\",\"e\",\"i\",\"o\",\"u\"]\n",
    "vow=[]\n",
    "consonants=[]\n",
    "specialsym=[]\n",
    "for i in s1:\n",
    "    if i.isalpha():\n",
    "        if i not in vowels:\n",
    "            consonants.append(i)\n",
    "        if i in vowels:\n",
    "            vow.append(i)\n",
    "    else:\n",
    "        specialsym.append(i)\n",
    "print(\"vowels are: \",\"\".join(vow))\n",
    "print(\"consonants are: \",\"\".join(consonants))\n",
    "print(\"Specialsym are: \",\"\".join(specialsym))\n",
    "        \n",
    "        \n"
   ]
  },
  {
   "cell_type": "code",
   "execution_count": 25,
   "id": "6474a9af",
   "metadata": {},
   "outputs": [
    {
     "data": {
      "text/plain": [
       "<generator object f1 at 0x000001935FDFFB30>"
      ]
     },
     "execution_count": 25,
     "metadata": {},
     "output_type": "execute_result"
    }
   ],
   "source": [
    "def f1():\n",
    "    s1=input(\"enter the string\")\n",
    "    vowels=[\"a\",\"e\",\"i\",\"o\",\"u\"]\n",
    "    vow=[]\n",
    "    consonants=[]\n",
    "    specialsym=[]\n",
    "    for i in s1:\n",
    "        if i.isalpha():\n",
    "            if i not in vowels:\n",
    "                consonants.append(i)\n",
    "            if i in vowels:\n",
    "                vow.append(i)\n",
    "        else:\n",
    "            specialsym.append(i)\n",
    "    yield \"\".join(vow)\n",
    "    yield \"\".join(consonants)\n",
    "    yield \"\".join(specialsym)\n",
    "f1()\n",
    "        \n",
    "    "
   ]
  },
  {
   "cell_type": "code",
   "execution_count": 26,
   "id": "c247f9ba",
   "metadata": {},
   "outputs": [
    {
     "name": "stdout",
     "output_type": "stream",
     "text": [
      "enter the stringabcdgj@$&\n",
      "a\n",
      "bcdgj\n",
      "@$&\n"
     ]
    }
   ],
   "source": [
    "for j in f1():\n",
    "    print(j)"
   ]
  },
  {
   "cell_type": "code",
   "execution_count": 1,
   "id": "92c72345",
   "metadata": {},
   "outputs": [
    {
     "name": "stdout",
     "output_type": "stream",
     "text": [
      "Is bartender on break(T/F): True\n",
      "Bartender should not serve drinks\n"
     ]
    }
   ],
   "source": [
    "#17) A bartender is writing a simple program to determine whether he should serve drinks to someone. He only serves\n",
    "#drinks to people 18 and older and when he's not on break (True means break and False means not a break time). Given\n",
    "#the person's age, and whether break time is in session, create\n",
    "#a python program which prints whether he should serve drinks or not.\n",
    "var=input(\"Is bartender on break(T/F): \")\n",
    "\n",
    "if var==\"True\":\n",
    "    print(\"Bartender should not serve drinks\")\n",
    "elif var==\"False\":\n",
    "    y=int(input(\" plese enetr the Age of the customer: \"))\n",
    "    if var>=18:\n",
    "        print(\"Bartender  serve drinks\")\n",
    "    else:\n",
    "        print(\"Bartender  not serve drinks\")\n",
    "else:\n",
    "    print(\"Input has to be True or False\")"
   ]
  },
  {
   "cell_type": "code",
   "execution_count": 5,
   "id": "c5528506",
   "metadata": {},
   "outputs": [
    {
     "name": "stdout",
     "output_type": "stream",
     "text": [
      "enter the name :Kavita\n",
      "Kavita sister\n"
     ]
    }
   ],
   "source": [
    "#18) Manoj Kumar has family and friends. Help him remind them who is who. Given a string with a name, return the\n",
    "#relation of that person to Manoj Kumar. Person Relation Shiva father Letha mother Tarun brother\n",
    "name=input(\"enter the name :\")\n",
    "if name==\"Shiva\":\n",
    "    print(name,\"father\")\n",
    "elif name==\"Letha\":\n",
    "    print(name,\"mother\")\n",
    "elif name==\"Tarun\":\n",
    "    print(name,\"brother\")\n",
    "elif name==\"Kavita\":\n",
    "    print(name,\"sister\")\n",
    "elif name==\"Stranger\":\n",
    "    print(name,\"coder\")\n",
    "\n",
    "\n"
   ]
  },
  {
   "cell_type": "code",
   "execution_count": 4,
   "id": "60974be8",
   "metadata": {},
   "outputs": [
    {
     "name": "stdout",
     "output_type": "stream",
     "text": [
      "eneter first value :19\n",
      "enter second value :10\n",
      "type any of this [+, -, *, /, %, **] *\n",
      "the product of two numbers is : 190\n"
     ]
    }
   ],
   "source": [
    "#Create a dynamic calculator which asks for numbers and operator and return the answers\n",
    "#Example\n",
    "#Input:\n",
    "#Type first number: 10\n",
    "#Type any of this (+, -, *, /, %, **): *\n",
    "#Kavitha sister\n",
    "#Strange Coder\n",
    "#Assignment-2\n",
    "#Type second number: 19\n",
    "#Output:\n",
    "#nswer is 190\n",
    "num1=int(input(\"eneter first value :\"))\n",
    "num2=int(input(\"enter second value :\"))\n",
    "choice=input(\"type any of this [+, -, *, /, %, **] \")\n",
    "if choice==\"+\":\n",
    "    print(\"The addition of two numbers is :\",num1+num2)\n",
    "elif choice==\"-\":\n",
    "    print(\"the substraction of two numbers is :\",num1-num2)\n",
    "elif choice==\"*\":\n",
    "    print(\"the product of two numbers is :\",num1*num2)\n",
    "elif choice==\"%\":\n",
    "    print(\"the  floor division of two numbers is\",num1%num2)\n",
    "elif choice==\"/\":\n",
    "    print(\"the floor division of twi numbers is \",num1/num2)\n",
    "elif choice==\"**\":\n",
    "    print(\"the power of two numbers is\",num1**num2)\n"
   ]
  }
 ],
 "metadata": {
  "kernelspec": {
   "display_name": "Python 3 (ipykernel)",
   "language": "python",
   "name": "python3"
  },
  "language_info": {
   "codemirror_mode": {
    "name": "ipython",
    "version": 3
   },
   "file_extension": ".py",
   "mimetype": "text/x-python",
   "name": "python",
   "nbconvert_exporter": "python",
   "pygments_lexer": "ipython3",
   "version": "3.9.13"
  }
 },
 "nbformat": 4,
 "nbformat_minor": 5
}
